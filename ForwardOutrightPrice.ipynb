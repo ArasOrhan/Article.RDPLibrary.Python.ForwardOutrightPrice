{
 "cells": [
  {
   "cell_type": "markdown",
   "metadata": {},
   "source": [
    "# How to Culculate Forward Outright Price"
   ]
  },
  {
   "cell_type": "markdown",
   "metadata": {},
   "source": [
    "This article will demonstrate how to use Refinitiv Data Platfrom(RDP) libraries to calculate Forward Outright Price. Forward Outright Price is the predicted metal price based on current price and forward rate."
   ]
  },
  {
   "cell_type": "markdown",
   "metadata": {},
   "source": [
    "# Introduction to the RDP Libraries\n",
    "\n",
    "[Refinitiv Data Platform (RDP)](https://developers.refinitiv.com/refinitiv-data-platform). is our cloud-enabled, open platform, that brings together content, analytics, customer and third-party data distribution and management technology in one place.Hence, it would be ideal if a single library could be used to access that content which is in once place as well. That’s why [Refinitiv Data Platform Libraries](https://developers.refinitiv.com/refinitiv-data-platform/refinitiv-data-platform-libraries) has been built. The libraries make simplify integration into all delivery platforms which are Refinitiv Workspace, or directly to RDP or Elektron. The libraries provide a consistent API experience. You just learn once and apply across the wealth of Refinitiv content. The libraries reach the largest audience of developers possible from Citizen developers to seasoned professionals. For more details, please refer to [Refinitiv Data Platform Libraries - An Introduction](https://developers.refinitiv.com/refinitiv-data-platform/refinitiv-data-platform-libraries/docs?content=62446&type=documentation_item)"
   ]
  },
  {
   "cell_type": "markdown",
   "metadata": {},
   "source": [
    "# Forward Outright Price Calculation"
   ]
  },
  {
   "cell_type": "markdown",
   "metadata": {},
   "source": [
    "The formula to calculate Forward Outright Price is the below:\n",
    "\n",
    " <H2>Forward Outright Price = Spot Price + Forward Swap Price</H2>\n",
    "\n",
    "- **Spot Price** = snapshot real-time price e.g. Bid and Ask\n",
    "\n",
    "- **Forward Swap Price** = Forward Swap Point / 100\n",
    "\n",
    "- **Forward Swap Point** = (Spot Price * (Forward Rate * days)) / Yearly basis\n",
    "\n",
    "Special case on Overnight (ON) and Tomorrow Next (TN) Forward Outright Price, switch Bid/Ask and change sign of Forward Swap Price:\n",
    "- ON Forward Outright Bid Price = Bid Spot Price + (-TN Forward Ask Swap Price) + (-ON Forward Ask Swap Price)\n",
    "- ON Forward Outright Ask Price = Bid Spot Price + (-TN Forward Bid Swap Price) + (-ON Forward Bid Swap Price)\n",
    "- TN Forward Outright Bid Price = Bid Spot Price + (-TN Forward Ask Swap Price)\n",
    "- TN Forward Outright Ask Price = Ask Spot Price + (-TN Forward Bid Swap Price)"
   ]
  },
  {
   "cell_type": "markdown",
   "metadata": {},
   "source": [
    "# Prerequisite\n",
    "1. Access Credentials. \n",
    "<br>To be able to access data used to calculate Forward Outright Price, you need to have the access credentials for **Platform - Refinitiv Data Platform** end point. Please refer to [Access Credentials Quick Start](https://developers.refinitiv.com/refinitiv-data-platform/refinitiv-data-platform-libraries/quick-start) for process and details how to obtain the access credentials for this end point.\n",
    "2. Python environment and package installer.\n",
    "   * [Anaconda](https://www.anaconda.com/distribution/). It is the easiest way to perform Python data science and machine learning on Linux, Windows, and Mac OS X. It consists of Jupyter Notebook and the packages that we will require e.g. numpy, pandas. You can download and install Anaconda from [here.](https://www.anaconda.com/distribution/)\n",
    "   * [cufflinks.](https://plotly.com/python/cufflinks/)(Optional to plot graphs) When you import cufflinks, all Pandas data frames and series objects have a new method attached to them called .iplot(). Hence, the Pandas data frames can plots the graph. To install cufflinks: \n",
    "        1. Open Anaconda Prompt:\n",
    "        2. Run the following command:\n",
    "```\n",
    "pip install cufflinks\n",
    "```\n",
    "3. RDP Library for Python. To install the library:\n",
    "   1. Open Anaconda Prompt:\n",
    "   2. Run the following command:\n",
    "```\n",
    "pip install refinitiv.dataplatform \n",
    "```"
   ]
  },
  {
   "cell_type": "markdown",
   "metadata": {},
   "source": [
    "## Implementation"
   ]
  },
  {
   "cell_type": "markdown",
   "metadata": {},
   "source": [
    "### Import the libraries"
   ]
  },
  {
   "cell_type": "code",
   "execution_count": 1,
   "metadata": {},
   "outputs": [
    {
     "data": {
      "text/html": [
       "        <script type=\"text/javascript\">\n",
       "        window.PlotlyConfig = {MathJaxConfig: 'local'};\n",
       "        if (window.MathJax) {MathJax.Hub.Config({SVG: {font: \"STIX-Web\"}});}\n",
       "        if (typeof require !== 'undefined') {\n",
       "        require.undef(\"plotly\");\n",
       "        requirejs.config({\n",
       "            paths: {\n",
       "                'plotly': ['https://cdn.plot.ly/plotly-latest.min']\n",
       "            }\n",
       "        });\n",
       "        require(['plotly'], function(Plotly) {\n",
       "            window._Plotly = Plotly;\n",
       "        });\n",
       "        }\n",
       "        </script>\n",
       "        "
      ]
     },
     "metadata": {},
     "output_type": "display_data"
    }
   ],
   "source": [
    "import refinitiv.dataplatform as rdp\n",
    "import getpass\n",
    "import pandas as pd\n",
    "import numpy as np\n",
    "import logging\n",
    "from datetime import datetime, timedelta, timezone\n",
    "import sys\n",
    "import cufflinks as cf"
   ]
  },
  {
   "cell_type": "markdown",
   "metadata": {},
   "source": [
    "### Create the logger"
   ]
  },
  {
   "cell_type": "code",
   "execution_count": 2,
   "metadata": {},
   "outputs": [],
   "source": [
    "logger = logging.getLogger(__name__)\n",
    "logger.setLevel(logging.INFO)"
   ]
  },
  {
   "cell_type": "markdown",
   "metadata": {},
   "source": [
    "### Define the functions"
   ]
  },
  {
   "cell_type": "markdown",
   "metadata": {},
   "source": [
    "Getting snapshot real-time data using RDP library function"
   ]
  },
  {
   "cell_type": "code",
   "execution_count": 3,
   "metadata": {},
   "outputs": [],
   "source": [
    "def get_rt(instrument, fids):\n",
    "    logger.info(f'Real-time data of {instrument} retrieving')\n",
    "    # get snapshot real-time data using RDP library function\n",
    "    instrument_rt = rdp.get_snapshot(instrument, fids)\n",
    "    get_snapshot_dt_utc = datetime.now(tz=timezone.utc).strftime('%Y-%m-%d %H:%M:%S')\n",
    "    # if getting data fails\n",
    "    if instrument_rt is None: \n",
    "        if rdp.get_last_status()['error']: \n",
    "            logger.error(f'Getting real-time data failed with the error: ' + str(rdp.get_last_status()['error'])) \n",
    "        else:\n",
    "            logger.error(f'Getting real-time data failed') \n",
    "        sys.exit(1)\n",
    "    # if getting data succeeds\n",
    "    else:\n",
    "        instrument_rt.insert(loc=0, column='DATE', value=datetime.now(tz=timezone.utc).date())\n",
    "        instrument_rt.loc[:, 'DATE'] = pd.to_datetime(instrument_rt.loc[:, 'DATE'], format='%Y-%m-%d')\n",
    "        return instrument_rt, get_snapshot_dt_utc"
   ]
  },
  {
   "cell_type": "markdown",
   "metadata": {},
   "source": [
    "Getting data using Delivery library layer function which sends REST Request to RDP service  "
   ]
  },
  {
   "cell_type": "code",
   "execution_count": 4,
   "metadata": {},
   "outputs": [],
   "source": [
    "def rdp_url_request(session, url, method, query_parameters=None, body_parameters=None, err_detail=None):\n",
    "    if query_parameters:\n",
    "        logger.info(f'RDP calling with {url}: {query_parameters} ')\n",
    "    if body_parameters:\n",
    "        logger.info(f'RDP calling with {url}: {body_parameters}')\n",
    "    #create end point to RDP service with the session \n",
    "    endpoint = rdp.DeliveryFactory.create_end_point(session=session, url=url)\n",
    "    #send the request to RDP service and wait for response\n",
    "    response = endpoint.send_request(method=method, query_parameters=query_parameters, body_parameters=body_parameters)\n",
    "    #print if request is successful\n",
    "    logger.info(f'RDP response is success: {response.is_success}')\n",
    "    error = False\n",
    "    #if request is unsuccessful\n",
    "    if response.error_code:\n",
    "        logger.error(f'RDP response error code: {response.error_code}')\n",
    "        error = True\n",
    "    if response.error_message:\n",
    "        logger.error(f'RDP response error message: {response.error_message}')\n",
    "        error = True\n",
    "    strRaw = str(response.data.raw)\n",
    "    if strRaw.find(\"Error\") >= 0:\n",
    "        logger.error(f\"The RDP response contains the error:\" + strRaw)\n",
    "        error = True\n",
    "    #if request is not successful, exit\n",
    "    if error:\n",
    "        if err_detail is not None:\n",
    "            logger.error(err_detail)\n",
    "        sys.exit(1)\n",
    "    #if request is successful, return response\n",
    "    return response"
   ]
  },
  {
   "cell_type": "markdown",
   "metadata": {},
   "source": [
    "Getting underlying RICs of the chain RIC function"
   ]
  },
  {
   "cell_type": "code",
   "execution_count": 5,
   "metadata": {},
   "outputs": [],
   "source": [
    "def get_chain(session, instrument):\n",
    "    try:\n",
    "        #specify a chain RIC\n",
    "        query_parameters = {'universe': instrument}\n",
    "        #request underlying RICs from chains RDP service\n",
    "        chain_response = rdp_url_request(session, url='data/pricing/beta3/views/chains',\n",
    "                                     method=rdp.Endpoint.RequestMethod.GET, query_parameters=query_parameters,\n",
    "                                         err_detail='The function cannot access chain.')\n",
    "        #get raw response\n",
    "        result = chain_response.data.raw\n",
    "        #getting underlying RICs from the raw response\n",
    "        r_list = result['data']['constituents']\n",
    "        logger.info(f'RDP chain response: {r_list}')\n",
    "        return r_list\n",
    "    except Exception as e:\n",
    "        logger.exception('The function cannot access chain. The exception is:')\n",
    "        logger.exception(e)\n",
    "        sys.exit(1)  "
   ]
  },
  {
   "cell_type": "markdown",
   "metadata": {},
   "source": [
    "Getting trade dates function which sends a request to **date-schedule** API endpoint to get date schedules. For more details of this API endpoint, please refer to [Quantitative Analytics - Dates and Calendars in API Playground](https://apidocs.refinitiv.com/Apps/ApiDocs#/details/L2RhdGEvcXVhbnRpdGF0aXZlLWFuYWx5dGljcy1kYXRlcy1hbmQtY2FsZW5kYXJzL2JldGEx/L2RhdGUtc2NoZWR1bGU=/POST/SWAGGER)\n",
    "\n",
    "**Quantitative Analytics - Dates and Calendars** is a part of **Quantitative Pricing Service(QPS)** on RDP. QPS performs financial calculation on provided data. This includes contract pricing, curve and surface calibration and interpolation, calendar-related operations, and more generally operations that rely on Adfin or PriceIt calculation libraries."
   ]
  },
  {
   "cell_type": "code",
   "execution_count": 6,
   "metadata": {},
   "outputs": [],
   "source": [
    "def qps_gen_tradedate(date, calendar_ref, session):\n",
    "    try:\n",
    "        date = date + 'T00:00:00.000Z'\n",
    "        body = {'start': date,\n",
    "                'count': 10,\n",
    "                'frequency': 'Daily',\n",
    "                'rollConventionType': 'CalendarDayOfMonth',\n",
    "                'dateAdjustment': {'adjustmentDirection': 'Before',\n",
    "                                   'dateMovingConvention': 'ModifiedFollowing',\n",
    "                                   'endOfMonthConvention': 'Same',\n",
    "                                   'calendars': [calendar_ref]\n",
    "                                   }\n",
    "                }\n",
    "        r = rdp_url_request(session, url='data/quantitative-analytics-dates-and-calendars/beta1/date-schedule',\n",
    "                            method=rdp.Endpoint.RequestMethod.POST, body_parameters=body, \n",
    "                            err_detail='The function cannot access trading day')\n",
    "        r1 = r.data.raw\n",
    "        r2 = []\n",
    "        for _, value in r1.items():\n",
    "            value\n",
    "            r2.append(value)\n",
    "        r2 = pd.DataFrame(r2)\n",
    "        r2 = r2.T\n",
    "        r2.columns = ['DATE']\n",
    "        r2.loc[:, 'DATE'] = r2.loc[:, 'DATE'].str[:10]\n",
    "        r2.loc[:, 'DATE'] = pd.to_datetime(\n",
    "            r2.loc[:, 'DATE'], format='%Y-%m-%d')\n",
    "        return r2\n",
    "    except Exception as e:\n",
    "        logger.exception('The function cannot access trading day. The exception is:')\n",
    "        logger.exception(e)\n",
    "        sys.exit(1)"
   ]
  },
  {
   "cell_type": "markdown",
   "metadata": {},
   "source": [
    "Getting trade dates function which excludes holidays of calendar reference e.g. USA holidays"
   ]
  },
  {
   "cell_type": "code",
   "execution_count": 7,
   "metadata": {},
   "outputs": [],
   "source": [
    "def skip_holiday(df, column, calendar_ref, session):\n",
    "    try:\n",
    "        date = df.iloc[0]['DATE']\n",
    "        date = date.strftime('%Y-%m-%d')\n",
    "        df_trade_date = qps_gen_tradedate(date, calendar_ref, session)\n",
    "        df = df.reset_index(drop=True)\n",
    "        r = []\n",
    "        for sted in df[column]:\n",
    "            for td in df_trade_date.loc[:, 'DATE']:\n",
    "                if sted not in df_trade_date.loc[:, 'DATE']:\n",
    "                    if td >= sted:\n",
    "                        sted = td\n",
    "                        r.append(sted)\n",
    "                        break\n",
    "                else:\n",
    "                    r.append(sted)\n",
    "                    break\n",
    "        r = pd.DataFrame(r)\n",
    "        df.loc[:, column] = r[0]\n",
    "        return df\n",
    "    except Exception as e:\n",
    "        logger.exception('The function cannot skip holiday. The exception is:')\n",
    "        logger.exception(e)\n",
    "        sys.exit(1)"
   ]
  },
  {
   "cell_type": "markdown",
   "metadata": {},
   "source": [
    "Calculating start date function. The function adds *START* column to the dataframe then returns the dataframe. The *START* column is trade dates based on TENOR, transaction date, calendar reference for skipping holidays. \n",
    "\n",
    "[TENOR](https://www.investopedia.com/terms/t/tenor.asp) refers to the length of time remaining before a financial contract expires[1].\n",
    "\n",
    "[Transaction date](https://www.investopedia.com/terms/t/transaction-date.asp) is a date upon which a trade takes place for a security or other financial instrument[2]."
   ]
  },
  {
   "cell_type": "code",
   "execution_count": 8,
   "metadata": {},
   "outputs": [],
   "source": [
    "def cal_startdate(df, transaction_date, calendar_ref, session):\n",
    "    try:\n",
    "        transaction_date = int(transaction_date)\n",
    "        date1 = df.iloc[0]['DATE']\n",
    "        df.loc[:, 'START'] = date1\n",
    "        # ON(Overnight) condition\n",
    "        df.loc[df['TENOR'] == 'ON', 'START'] = date1\n",
    "        # TN(Tomorrow next) condition\n",
    "        df.loc[df['TENOR'] == 'TN', 'START'] = date1 + timedelta(days=1)\n",
    "        df.loc[((df['TENOR'] == 'TN') & (df['START'].dt.dayofweek == 5)),\n",
    "               'START'] = date1 + timedelta(days=3)\n",
    "        df.loc[((df['TENOR'] == 'TN') & (df['START'].dt.dayofweek == 6)),\n",
    "               'START'] = date1 + timedelta(days=2)\n",
    "        df.loc[(df['TENOR'] == 'ON') & (df['TENOR'] == 'TN') & (\n",
    "            df['START'].dt.dayofweek == 6), 'START'] = df['START'] + timedelta(days=3)\n",
    "        # other tenors condition\n",
    "        df.loc[(df['TENOR'] != 'ON') & (df['TENOR'] != 'TN'),\n",
    "               'START'] = date1 + timedelta(days=transaction_date)\n",
    "        df.loc[(df['TENOR'] != 'ON') & (df['TENOR'] != 'TN') & (\n",
    "            df['START'].dt.dayofweek >= 5), 'START'] = df['START'] + timedelta(days=transaction_date)\n",
    "        if df.iloc[0]['TENOR'] == 'ON':\n",
    "            dfontn = df.iloc[0:2]\n",
    "            df2 = df.iloc[2:]\n",
    "            df3 = skip_holiday(df2, 'START', calendar_ref, session)\n",
    "            df = dfontn.append(df3, ignore_index=True)\n",
    "        else:\n",
    "            df = skip_holiday(df, 'START', calendar_ref, session)\n",
    "        return df\n",
    "    except Exception as e:\n",
    "        logger.exception('The function cannot calculate start date. The exception is:')\n",
    "        logger.exception(e)\n",
    "        sys.exit(1)"
   ]
  },
  {
   "cell_type": "markdown",
   "metadata": {},
   "source": [
    "Calculating end date function. The function adds *END* column to the dataframe then returns the dataframe. The *END* column is trade dates based on TENOR, calendar reference for skipping holidays. "
   ]
  },
  {
   "cell_type": "code",
   "execution_count": 9,
   "metadata": {},
   "outputs": [],
   "source": [
    "def qps_cal_enddate(df, calendar_ref, session):\n",
    "    try:\n",
    "        on_stdate = df.loc[df['TENOR'] == 'ON', 'START']\n",
    "        tn_stdate = df.loc[df['TENOR'] == 'TN', 'START']\n",
    "        df.loc[:, 'START'] = df['START'].dt.strftime('%Y-%m-%d')\n",
    "        df.loc[:, 'START'] = df['START'] + 'T00:00:00.000Z'\n",
    "        df2 = df[['START', 'TENOR']].copy()\n",
    "        body = []\n",
    "        for date, tenor in df2.itertuples(index=False):\n",
    "            item = {\n",
    "                'startDate': date,\n",
    "                'period': tenor,\n",
    "                'calendars': [calendar_ref]\n",
    "                #'calendars': []\n",
    "            }\n",
    "            body.append(item)\n",
    "        r = rdp_url_request(session, url='data/quantitative-analytics-dates-and-calendars/beta1/AddPeriods',\n",
    "                            method=rdp.Endpoint.RequestMethod.POST, body_parameters=body,\n",
    "                            err_detail='The function cannot calculate end date by QPS')\n",
    "        r1 = r.data.raw\n",
    "        r2 = pd.DataFrame(r1)\n",
    "        r2.loc[:, 'date'] = r2['date'].str[:10]\n",
    "        df.loc[:, 'END'] = r2['date']\n",
    "        df.loc[:, 'START'] = df['START'].str[:10]\n",
    "        df.loc[:, 'START'] = pd.to_datetime(df['START'], format='%Y-%m-%d')\n",
    "        df.loc[df['TENOR'] == 'ON', 'END'] = on_stdate + timedelta(days=1)\n",
    "        df.loc[df['TENOR'] == 'TN', 'END'] = tn_stdate + timedelta(days=1)\n",
    "        df.loc[:, 'END'] = pd.to_datetime(df['END'], format='%Y-%m-%d')\n",
    "        df.loc[(df['TENOR'] == 'ON') & (df['END'].dt.dayofweek == 6),\n",
    "               'END'] = on_stdate + timedelta(days=2)\n",
    "        df.loc[(df['TENOR'] == 'ON') & (df['END'].dt.dayofweek == 0),\n",
    "               'END'] = on_stdate + timedelta(days=1)\n",
    "        df.loc[(df['TENOR'] == 'TN') & (df['END'].dt.dayofweek == 6),\n",
    "               'END'] = tn_stdate + timedelta(days=2)\n",
    "        df.loc[(df['TENOR'] == 'TN') & (df['END'].dt.dayofweek == 0),\n",
    "               'END'] = tn_stdate + timedelta(days=1)\n",
    "        if df.iloc[0]['TENOR'] == 'ON':\n",
    "            df2 = df.iloc[0:2]\n",
    "            df3 = skip_holiday(df2, 'END', calendar_ref, session)\n",
    "            df.iloc[0:2] = df3\n",
    "        return df\n",
    "    except Exception as e:\n",
    "        logger.exception('The function cannot calculate end date by QPS. The exception is:')\n",
    "        logger.exception(e)\n",
    "        sys.exit(1)"
   ]
  },
  {
   "cell_type": "markdown",
   "metadata": {},
   "source": [
    "Creating interpolation dataframe function based on defined TENOR list and the current date(UTC timezone). The function returns dataframe containing DATE and TENOR column"
   ]
  },
  {
   "cell_type": "code",
   "execution_count": 10,
   "metadata": {},
   "outputs": [],
   "source": [
    "def create_df_interp(tenorlist):\n",
    "    try:\n",
    "        logger.info('Rate interpolating')\n",
    "        df_interp = pd.DataFrame(tenorlist, columns=['TENOR'])\n",
    "        df_interp.loc[:, 'DATE'] = datetime.now(tz=timezone.utc).date()\n",
    "        df_interp.loc[:, 'DATE'] = pd.to_datetime(\n",
    "            df_interp['DATE'], format='%Y-%m-%d')\n",
    "        df_interp = df_interp[['DATE', 'TENOR']].copy()\n",
    "        return df_interp\n",
    "    except Exception as e:\n",
    "        logger.exception('The function cannot create interpolation dataframe. The exception is:')\n",
    "        logger.exception(e)\n",
    "        sys.exit(1)"
   ]
  },
  {
   "cell_type": "markdown",
   "metadata": {},
   "source": [
    "The function returns the list of days count from the date 01/01/01 based on the date series input"
   ]
  },
  {
   "cell_type": "code",
   "execution_count": 11,
   "metadata": {},
   "outputs": [],
   "source": [
    "def datelist_toordinal(df):\n",
    "    try:\n",
    "        ii = []\n",
    "        for i in df:\n",
    "            i = i.toordinal()\n",
    "            ii.append(i)\n",
    "        return ii\n",
    "    except Exception as e:\n",
    "        logger.exception('The function cannot change the data to ordinal number. The exception is:')\n",
    "        logger.exception(e)\n",
    "        sys.exit(1)"
   ]
  },
  {
   "cell_type": "markdown",
   "metadata": {},
   "source": [
    "The funtion calculates RATE of each TENOR and returns the dataframe containing DATE,TENOR,START,END and RATE column"
   ]
  },
  {
   "cell_type": "code",
   "execution_count": 12,
   "metadata": {},
   "outputs": [],
   "source": [
    "def cal_interp(df_ref, df_interp):\n",
    "    try:\n",
    "        del df_ref['Instruments']\n",
    "        df_interp = df_interp.reset_index().merge(\n",
    "            df_ref, how='left').set_index('index')\n",
    "        dftemp = df_interp[['END', 'RATE']].copy()\n",
    "        dftemp.loc[:, 'END'] = datelist_toordinal(dftemp['END'])\n",
    "        df_ref.loc[:, 'END'] = datelist_toordinal(df_ref['END'])\n",
    "        dftemp['RATE'].fillna('x', inplace=True)\n",
    "        r = []\n",
    "        for end, rate in dftemp.itertuples(index=False):\n",
    "            if rate == 'x':\n",
    "                rate = np.interp(end, df_ref['END'], df_ref['RATE'])\n",
    "                r.append(rate)\n",
    "            else:\n",
    "                r.append(rate)\n",
    "        df_interp.loc[:, 'RATE'] = r\n",
    "        return df_interp\n",
    "    except Exception as e:\n",
    "        logger.exception('The function cannot interpolate the data. The exception is:')\n",
    "        logger.exception(e)\n",
    "        sys.exit(1)"
   ]
  },
  {
   "cell_type": "markdown",
   "metadata": {},
   "source": [
    "The function gets current metal spot price(bid and ask) and current date time"
   ]
  },
  {
   "cell_type": "code",
   "execution_count": 13,
   "metadata": {},
   "outputs": [],
   "source": [
    "def metal_update(metal):\n",
    "    metal_rt, metal_dt_utc = get_rt([metal], ['BID', 'ASK'])\n",
    "    bid = metal_rt.iloc[0]['BID']\n",
    "    ask = metal_rt.iloc[0]['ASK']\n",
    "    return bid, ask, metal_dt_utc"
   ]
  },
  {
   "cell_type": "markdown",
   "metadata": {},
   "source": [
    "The function culcaltes forward rate. It returns dataframe containing DATE,TENOR,START,END and RATE(forward rate) column"
   ]
  },
  {
   "cell_type": "code",
   "execution_count": 14,
   "metadata": {},
   "outputs": [],
   "source": [
    "def rate_update(session, calendar_ref, transaction_date, tenor_list, rate, lending_rate_field, rate_chain, lending_rate_ref_af=None):\n",
    "    logger.info('Lending rate updating')\n",
    "    rate_fids = ['GV4_TEXT', lending_rate_field]\n",
    "    rate_rt, rate_dt_utc = get_rt(rate_chain, rate_fids)\n",
    "    rate_rt.rename(columns={'GV4_TEXT': 'TENOR',\n",
    "                            lending_rate_field: 'RATE'}, inplace=True)\n",
    "    ###\n",
    "    # Map specific rate\n",
    "    df_startdate = cal_startdate(rate_rt, transaction_date, calendar_ref, session)\n",
    "    df_startenddate = qps_cal_enddate(df_startdate, calendar_ref, session)\n",
    "    # Rate Interpolation\n",
    "    interp_frame = create_df_interp(tenor_list)\n",
    "    date_interp_start = cal_startdate(interp_frame, transaction_date, calendar_ref, session)\n",
    "    if lending_rate_ref_af is not None:\n",
    "        date_interp_end = lending_rate_ref_af\n",
    "    else:\n",
    "        date_interp_end = qps_cal_enddate(date_interp_start, calendar_ref, session)\n",
    "    rate_interp = cal_interp(df_startenddate, date_interp_end)\n",
    "    return rate_interp, date_interp_end"
   ]
  },
  {
   "cell_type": "markdown",
   "metadata": {},
   "source": [
    "The function calculates forward swap points and forward swap prices according to the formula. It returns the dataframe with new column named BID_RATE(rename from RATE column),ASK_RATE,DAYS,BID_SWAP_POINT(BID forward swap point),ASK_SWAP_POINT(ASK forward swap point),BID_SWAP_PRICE(forward swap prices),ASK_SWAP_PRICE(forward swap prices)"
   ]
  },
  {
   "cell_type": "code",
   "execution_count": 15,
   "metadata": {},
   "outputs": [],
   "source": [
    "def cal_swppoint(df_afterinterp, bid, ask):\n",
    "    try:\n",
    "        logger.info('Swap point calculating')\n",
    "        df_afterinterp = df_afterinterp.rename(columns={'RATE': 'BID_RATE'})\n",
    "        df_afterinterp.loc[:, 'ASK_RATE'] = df_afterinterp['BID_RATE']\n",
    "        df_afterinterp.loc[:, 'ASK_RATE'] += proxy_price_spread\n",
    "        df_afterinterp.loc[:, 'DAYS'] = (df_afterinterp['END'] - df_afterinterp['START']) / timedelta(days=1)\n",
    "        df_afterinterp.loc[:, 'BID_SWAP_POINT'] = ((df_afterinterp['BID_RATE'].mul(df_afterinterp['DAYS'])).mul(bid)).div(365)\n",
    "        df_afterinterp.loc[:, 'ASK_SWAP_POINT'] = ((df_afterinterp['ASK_RATE'].mul(df_afterinterp['DAYS'])).mul(ask)).div(365)\n",
    "        #calculate Forward swap price from Forward swap point\n",
    "        df_afterinterp.loc[:,'BID_SWAP_PRICE'] = df_afterinterp['BID_SWAP_POINT'].div(100)\n",
    "        df_afterinterp.loc[:,'ASK_SWAP_PRICE'] = df_afterinterp['ASK_SWAP_POINT'].div(100)\n",
    "        return df_afterinterp\n",
    "    except Exception as e:\n",
    "        logger.exception('The function cannot calculate the swap point. The exception is:')\n",
    "        logger.exception(e)\n",
    "        sys.exit(1)"
   ]
  },
  {
   "cell_type": "markdown",
   "metadata": {},
   "source": [
    "The function calculates forward outright prices according to the formula. It returns the dataframe with forward outright prices which is BID_FWDOUTRIGHT and ASK_FWDOUTRIGHT column"
   ]
  },
  {
   "cell_type": "code",
   "execution_count": 16,
   "metadata": {},
   "outputs": [],
   "source": [
    "def cal_fwdoutright(df, bid, ask):\n",
    "    try:\n",
    "        df.loc[(df['TENOR'] != 'ON') & (df['TENOR'] != 'TN'),'BID_FWDOUTRIGHT'] = bid + df['BID_SWAP_PRICE'] \n",
    "        df.loc[(df['TENOR'] != 'ON') & (df['TENOR'] != 'TN'),'ASK_FWDOUTRIGHT'] = ask + df['ASK_SWAP_PRICE'] \n",
    "        bid_on = df.loc[(df['TENOR'] == 'ON'), 'BID_SWAP_PRICE']\n",
    "        bid_on = bid_on[0]\n",
    "        bid_on *= -1\n",
    "        ask_on = df.loc[(df['TENOR'] == 'ON'), 'ASK_SWAP_PRICE']\n",
    "        ask_on = ask_on[0]\n",
    "        ask_on *= -1\n",
    "        bid_tn = df.loc[(df['TENOR'] == 'TN'), 'BID_SWAP_PRICE']\n",
    "        bid_tn = bid_tn[1]\n",
    "        bid_tn *= -1\n",
    "        ask_tn = df.loc[(df['TENOR'] == 'TN'), 'ASK_SWAP_PRICE']\n",
    "        ask_tn = ask_tn[1]\n",
    "        ask_tn *= -1\n",
    "        df.loc[(df['TENOR'] == 'ON'), 'BID_FWDOUTRIGHT'] = bid + ask_tn + ask_on\n",
    "        df.loc[(df['TENOR'] == 'ON'), 'ASK_FWDOUTRIGHT'] = ask + bid_tn + bid_on\n",
    "        df.loc[(df['TENOR'] == 'TN'), 'BID_FWDOUTRIGHT'] = bid + ask_tn\n",
    "        df.loc[(df['TENOR'] == 'TN'), 'ASK_FWDOUTRIGHT'] = ask + bid_tn\n",
    "        return df\n",
    "    except Exception as e:\n",
    "        logger.exception('The function cannot calculate the forward outright. The exception is:')\n",
    "        logger.exception(e)\n",
    "        sys.exit(1)"
   ]
  },
  {
   "cell_type": "markdown",
   "metadata": {},
   "source": [
    "The function calculates forward outright prices based on the forward swap prices, metal spot price(bid and ask)"
   ]
  },
  {
   "cell_type": "code",
   "execution_count": 17,
   "metadata": {},
   "outputs": [],
   "source": [
    "def calculate_fwdoutright(metal, df_swppt, sp_bid, sp_ask):\n",
    "    logger.info('Forward outright calculating')\n",
    "    df_swppoint_cal = df_swppt.copy()\n",
    "    df_fwdoutright = cal_fwdoutright(df_swppoint_cal, sp_bid, sp_ask)\n",
    "    return df_fwdoutright"
   ]
  },
  {
   "cell_type": "markdown",
   "metadata": {},
   "source": [
    "### Main method ###"
   ]
  },
  {
   "cell_type": "markdown",
   "metadata": {},
   "source": [
    "### Step 1: Opening a session\n",
    "\n",
    "To Open a session to RDP directly. RDP username, password and the application key are required."
   ]
  },
  {
   "cell_type": "code",
   "execution_count": 18,
   "metadata": {},
   "outputs": [
    {
     "name": "stdout",
     "output_type": "stream",
     "text": [
      "Enter RDP username: pimchaya.wongrukun1@thomsonreuters.com\n",
      "Enter RDP password:········\n",
      "Enter the app key: ········\n"
     ]
    }
   ],
   "source": [
    "RDP_USER = input(\"Enter RDP username: \")\n",
    "RDP_PASSWORD = getpass.getpass('Enter RDP password:')\n",
    "APP_KEY = getpass.getpass(\"Enter the app key: \")"
   ]
  },
  {
   "cell_type": "markdown",
   "metadata": {},
   "source": [
    "Create and open a platform session with application key, RDP username and password to connect to RDP directly."
   ]
  },
  {
   "cell_type": "code",
   "execution_count": 19,
   "metadata": {},
   "outputs": [],
   "source": [
    "session = rdp.open_platform_session(\n",
    "    APP_KEY, \n",
    "    rdp.GrantPassword(\n",
    "        username = RDP_USER, \n",
    "        password = RDP_PASSWORD\n",
    "    )\n",
    ")"
   ]
  },
  {
   "cell_type": "markdown",
   "metadata": {},
   "source": [
    "### Step 2: Set the required info\n",
    "Input the required info"
   ]
  },
  {
   "cell_type": "code",
   "execution_count": 20,
   "metadata": {},
   "outputs": [
    {
     "name": "stdout",
     "output_type": "stream",
     "text": [
      "Enter a metal RIC e.g. XPD= : XPD=\n",
      "Enter forward offer rate RIC e.g. XPDFWD=TTKL : XPDFWD=TTKL\n",
      "Enter forward offer rate Field Name(default is PRIMACT_1): \n",
      "Enter transaction date(default is 2): \n",
      "Enter calendars(default is USA): \n",
      "Enter proxy price spread(default is 0.08): \n"
     ]
    }
   ],
   "source": [
    "metal_input = input(\"Enter a metal RIC e.g. XPD= : \")\n",
    "lending_rate_input = input(\"Enter forward offer rate RIC e.g. XPDFWD=TTKL : \")\n",
    "lending_rate_field_input = input(\"Enter forward offer rate Field Name(default is PRIMACT_1): \") \n",
    "if len(lending_rate_field_input.strip()) == 0:\n",
    "    lending_rate_field_input = \"PRIMACT_1\"\n",
    "transaction_date_input = input(\"Enter transaction date(default is 2): \")\n",
    "if len(transaction_date_input.strip()) == 0:\n",
    "    transaction_date_input = '2'\n",
    "calendar_ref_input = input(\"Enter calendars(default is USA): \")\n",
    "if len(calendar_ref_input.strip()) == 0:\n",
    "    calendar_ref_input = 'USA'\n",
    "proxy_price_spread_input_str = input(\"Enter proxy price spread(default is 0.08): \")\n",
    "if len(proxy_price_spread_input_str.strip()) == 0:\n",
    "    proxy_price_spread_input = 0.08\n",
    "else:\n",
    "    try:\n",
    "        fVal = float(proxy_price_spread_input_str)\n",
    "    except ValueError:\n",
    "        proxy_price_spread_input = 0.08\n",
    "        logger.info(\"Proxy price spread is not integer or float so the default(0.08) is used.\")\n",
    "    else:\n",
    "        proxy_price_spread_input = fVal"
   ]
  },
  {
   "cell_type": "markdown",
   "metadata": {},
   "source": [
    "Set the configuration according to the inputs then assign the configuration to the variables"
   ]
  },
  {
   "cell_type": "code",
   "execution_count": 21,
   "metadata": {},
   "outputs": [],
   "source": [
    "config = {\n",
    "        'metal': metal_input,\n",
    "        'lending_rate': lending_rate_input,\n",
    "        'lending_rate_field': lending_rate_field_input,\n",
    "        'calendar_ref': calendar_ref_input,\n",
    "        'transaction_date': transaction_date_input,\n",
    "        'proxy_price_spread': proxy_price_spread_input,\n",
    "         #ON - Overnight, TN - Tomorrow next, SN - Spot next, SW - Spot week\n",
    "        'tenor_list': [\n",
    "            'ON', 'TN', 'SN', 'SW', '2W', '3W', '1M', '2M', '3M', '4M', '5M', '6M', '7M', '8M', '9M', '10M', \n",
    "            '11M', '1Y', '15M', '18M', '21M', '2Y', '3Y', '4Y', '5Y', '6Y', '7Y', '8Y', '9Y', '10Y'\n",
    "        ]\n",
    "}\n",
    "metal = config['metal']\n",
    "lending_rate = config['lending_rate']\n",
    "lending_rate_field = config['lending_rate_field']\n",
    "calendar_ref = config['calendar_ref']\n",
    "transaction_date = config['transaction_date']\n",
    "tenor_list = config['tenor_list']\n",
    "proxy_price_spread = config['proxy_price_spread']"
   ]
  },
  {
   "cell_type": "markdown",
   "metadata": {},
   "source": [
    "<a name=\"Step-3\"></a>\n",
    "### Step 3: Request underlying RICs of lending rate chain metal RIC "
   ]
  },
  {
   "cell_type": "code",
   "execution_count": 22,
   "metadata": {},
   "outputs": [
    {
     "name": "stderr",
     "output_type": "stream",
     "text": [
      "2020-07-02 18:59:37,026 P[13896] [MainThread 18812] RDP calling with data/pricing/beta3/views/chains: {'universe': 'XPDFWD=TTKL'} \n",
      "2020-07-02 18:59:38,947 P[13896] [MainThread 18812] RDP response is success: True\n",
      "2020-07-02 18:59:38,947 P[13896] [MainThread 18812] RDP chain response: ['XPD1M=TTKL', 'XPD1M=TTKL', 'XPD2M=TTKL', 'XPD3M=TTKL', 'XPD6M=TTKL', 'XPD9M=TTKL', 'XPD1Y=TTKL', 'XPD2Y=TTKL']\n"
     ]
    },
    {
     "name": "stdout",
     "output_type": "stream",
     "text": [
      "lending rate chain:\n"
     ]
    },
    {
     "data": {
      "text/plain": [
       "['XPD1M=TTKL',\n",
       " 'XPD1M=TTKL',\n",
       " 'XPD2M=TTKL',\n",
       " 'XPD3M=TTKL',\n",
       " 'XPD6M=TTKL',\n",
       " 'XPD9M=TTKL',\n",
       " 'XPD1Y=TTKL',\n",
       " 'XPD2Y=TTKL']"
      ]
     },
     "execution_count": 22,
     "metadata": {},
     "output_type": "execute_result"
    }
   ],
   "source": [
    "lending_rate_chain = get_chain(session, lending_rate)\n",
    "print(\"lending rate chain:\")\n",
    "lending_rate_chain"
   ]
  },
  {
   "cell_type": "markdown",
   "metadata": {},
   "source": [
    "### Step 4: Get the spot price, bid and ask, of metal RIC"
   ]
  },
  {
   "cell_type": "code",
   "execution_count": 23,
   "metadata": {},
   "outputs": [
    {
     "name": "stderr",
     "output_type": "stream",
     "text": [
      "2020-07-02 18:59:38,971 P[13896] [MainThread 18812] Real-time data of ['XPD='] retrieving\n"
     ]
    },
    {
     "name": "stdout",
     "output_type": "stream",
     "text": [
      "Request data of RIC XPD= at 2020-07-02 11:59:40(UTC)\n",
      "BID is 1909.735\n",
      "ASK is 1934.735\n"
     ]
    }
   ],
   "source": [
    "# 1 metal update\n",
    "spot_bid, spot_ask, metal_datetime = metal_update(metal)\n",
    "print(\"Request data of RIC \" + metal + \" at \" + metal_datetime + \"(UTC)\")\n",
    "print(\"BID is \" + str(spot_bid))\n",
    "print(\"ASK is \" + str(spot_ask))"
   ]
  },
  {
   "cell_type": "markdown",
   "metadata": {},
   "source": [
    "### Step 5: Calculate the forward rate\n",
    "This is the forward rate based on the TENOR and the rate of RICs got from [Step 3: Request underlying RICs of lending rate chain metal RIC](#Step-3)"
   ]
  },
  {
   "cell_type": "code",
   "execution_count": 24,
   "metadata": {
    "scrolled": false
   },
   "outputs": [
    {
     "name": "stderr",
     "output_type": "stream",
     "text": [
      "2020-07-02 18:59:40,970 P[13896] [MainThread 18812] Lending rate updating\n",
      "2020-07-02 18:59:40,971 P[13896] [MainThread 18812] Real-time data of ['XPD1M=TTKL', 'XPD1M=TTKL', 'XPD2M=TTKL', 'XPD3M=TTKL', 'XPD6M=TTKL', 'XPD9M=TTKL', 'XPD1Y=TTKL', 'XPD2Y=TTKL'] retrieving\n",
      "2020-07-02 18:59:43,110 P[13896] [MainThread 18812] RDP calling with data/quantitative-analytics-dates-and-calendars/beta1/date-schedule: {'start': '2020-07-02T00:00:00.000Z', 'count': 10, 'frequency': 'Daily', 'rollConventionType': 'CalendarDayOfMonth', 'dateAdjustment': {'adjustmentDirection': 'Before', 'dateMovingConvention': 'ModifiedFollowing', 'endOfMonthConvention': 'Same', 'calendars': ['USA']}}\n",
      "2020-07-02 18:59:44,951 P[13896] [MainThread 18812] RDP response is success: True\n",
      "2020-07-02 18:59:45,005 P[13896] [MainThread 18812] RDP calling with data/quantitative-analytics-dates-and-calendars/beta1/AddPeriods: [{'startDate': '2020-07-06T00:00:00.000Z', 'period': '1M    ', 'calendars': ['USA']}, {'startDate': '2020-07-06T00:00:00.000Z', 'period': '1M    ', 'calendars': ['USA']}, {'startDate': '2020-07-06T00:00:00.000Z', 'period': '2M    ', 'calendars': ['USA']}, {'startDate': '2020-07-06T00:00:00.000Z', 'period': '3M    ', 'calendars': ['USA']}, {'startDate': '2020-07-06T00:00:00.000Z', 'period': '6M    ', 'calendars': ['USA']}, {'startDate': '2020-07-06T00:00:00.000Z', 'period': '9M    ', 'calendars': ['USA']}, {'startDate': '2020-07-06T00:00:00.000Z', 'period': '1Y    ', 'calendars': ['USA']}, {'startDate': '2020-07-06T00:00:00.000Z', 'period': '2Y    ', 'calendars': ['USA']}]\n",
      "2020-07-02 18:59:46,806 P[13896] [MainThread 18812] RDP response is success: True\n",
      "2020-07-02 18:59:46,835 P[13896] [MainThread 18812] Rate interpolating\n",
      "2020-07-02 18:59:46,864 P[13896] [MainThread 18812] RDP calling with data/quantitative-analytics-dates-and-calendars/beta1/date-schedule: {'start': '2020-07-02T00:00:00.000Z', 'count': 10, 'frequency': 'Daily', 'rollConventionType': 'CalendarDayOfMonth', 'dateAdjustment': {'adjustmentDirection': 'Before', 'dateMovingConvention': 'ModifiedFollowing', 'endOfMonthConvention': 'Same', 'calendars': ['USA']}}\n",
      "2020-07-02 18:59:48,823 P[13896] [MainThread 18812] RDP response is success: True\n",
      "2020-07-02 18:59:48,849 P[13896] [MainThread 18812] RDP calling with data/quantitative-analytics-dates-and-calendars/beta1/AddPeriods: [{'startDate': '2020-07-02T00:00:00.000Z', 'period': 'ON', 'calendars': ['USA']}, {'startDate': '2020-07-03T00:00:00.000Z', 'period': 'TN', 'calendars': ['USA']}, {'startDate': '2020-07-06T00:00:00.000Z', 'period': 'SN', 'calendars': ['USA']}, {'startDate': '2020-07-06T00:00:00.000Z', 'period': 'SW', 'calendars': ['USA']}, {'startDate': '2020-07-06T00:00:00.000Z', 'period': '2W', 'calendars': ['USA']}, {'startDate': '2020-07-06T00:00:00.000Z', 'period': '3W', 'calendars': ['USA']}, {'startDate': '2020-07-06T00:00:00.000Z', 'period': '1M', 'calendars': ['USA']}, {'startDate': '2020-07-06T00:00:00.000Z', 'period': '2M', 'calendars': ['USA']}, {'startDate': '2020-07-06T00:00:00.000Z', 'period': '3M', 'calendars': ['USA']}, {'startDate': '2020-07-06T00:00:00.000Z', 'period': '4M', 'calendars': ['USA']}, {'startDate': '2020-07-06T00:00:00.000Z', 'period': '5M', 'calendars': ['USA']}, {'startDate': '2020-07-06T00:00:00.000Z', 'period': '6M', 'calendars': ['USA']}, {'startDate': '2020-07-06T00:00:00.000Z', 'period': '7M', 'calendars': ['USA']}, {'startDate': '2020-07-06T00:00:00.000Z', 'period': '8M', 'calendars': ['USA']}, {'startDate': '2020-07-06T00:00:00.000Z', 'period': '9M', 'calendars': ['USA']}, {'startDate': '2020-07-06T00:00:00.000Z', 'period': '10M', 'calendars': ['USA']}, {'startDate': '2020-07-06T00:00:00.000Z', 'period': '11M', 'calendars': ['USA']}, {'startDate': '2020-07-06T00:00:00.000Z', 'period': '1Y', 'calendars': ['USA']}, {'startDate': '2020-07-06T00:00:00.000Z', 'period': '15M', 'calendars': ['USA']}, {'startDate': '2020-07-06T00:00:00.000Z', 'period': '18M', 'calendars': ['USA']}, {'startDate': '2020-07-06T00:00:00.000Z', 'period': '21M', 'calendars': ['USA']}, {'startDate': '2020-07-06T00:00:00.000Z', 'period': '2Y', 'calendars': ['USA']}, {'startDate': '2020-07-06T00:00:00.000Z', 'period': '3Y', 'calendars': ['USA']}, {'startDate': '2020-07-06T00:00:00.000Z', 'period': '4Y', 'calendars': ['USA']}, {'startDate': '2020-07-06T00:00:00.000Z', 'period': '5Y', 'calendars': ['USA']}, {'startDate': '2020-07-06T00:00:00.000Z', 'period': '6Y', 'calendars': ['USA']}, {'startDate': '2020-07-06T00:00:00.000Z', 'period': '7Y', 'calendars': ['USA']}, {'startDate': '2020-07-06T00:00:00.000Z', 'period': '8Y', 'calendars': ['USA']}, {'startDate': '2020-07-06T00:00:00.000Z', 'period': '9Y', 'calendars': ['USA']}, {'startDate': '2020-07-06T00:00:00.000Z', 'period': '10Y', 'calendars': ['USA']}]\n",
      "2020-07-02 18:59:50,761 P[13896] [MainThread 18812] RDP response is success: True\n",
      "2020-07-02 18:59:50,792 P[13896] [MainThread 18812] RDP calling with data/quantitative-analytics-dates-and-calendars/beta1/date-schedule: {'start': '2020-07-02T00:00:00.000Z', 'count': 10, 'frequency': 'Daily', 'rollConventionType': 'CalendarDayOfMonth', 'dateAdjustment': {'adjustmentDirection': 'Before', 'dateMovingConvention': 'ModifiedFollowing', 'endOfMonthConvention': 'Same', 'calendars': ['USA']}}\n",
      "2020-07-02 18:59:52,742 P[13896] [MainThread 18812] RDP response is success: True\n"
     ]
    },
    {
     "data": {
      "text/html": [
       "<div>\n",
       "<style scoped>\n",
       "    .dataframe tbody tr th:only-of-type {\n",
       "        vertical-align: middle;\n",
       "    }\n",
       "\n",
       "    .dataframe tbody tr th {\n",
       "        vertical-align: top;\n",
       "    }\n",
       "\n",
       "    .dataframe thead th {\n",
       "        text-align: right;\n",
       "    }\n",
       "</style>\n",
       "<table border=\"1\" class=\"dataframe\">\n",
       "  <thead>\n",
       "    <tr style=\"text-align: right;\">\n",
       "      <th></th>\n",
       "      <th>DATE</th>\n",
       "      <th>TENOR</th>\n",
       "      <th>START</th>\n",
       "      <th>END</th>\n",
       "      <th>RATE</th>\n",
       "    </tr>\n",
       "    <tr>\n",
       "      <th>index</th>\n",
       "      <th></th>\n",
       "      <th></th>\n",
       "      <th></th>\n",
       "      <th></th>\n",
       "      <th></th>\n",
       "    </tr>\n",
       "  </thead>\n",
       "  <tbody>\n",
       "    <tr>\n",
       "      <td>0</td>\n",
       "      <td>2020-07-02</td>\n",
       "      <td>ON</td>\n",
       "      <td>2020-07-02</td>\n",
       "      <td>2020-07-03</td>\n",
       "      <td>-0.380000</td>\n",
       "    </tr>\n",
       "    <tr>\n",
       "      <td>1</td>\n",
       "      <td>2020-07-02</td>\n",
       "      <td>TN</td>\n",
       "      <td>2020-07-03</td>\n",
       "      <td>2020-07-06</td>\n",
       "      <td>-0.380000</td>\n",
       "    </tr>\n",
       "    <tr>\n",
       "      <td>2</td>\n",
       "      <td>2020-07-02</td>\n",
       "      <td>SN</td>\n",
       "      <td>2020-07-06</td>\n",
       "      <td>2020-07-07</td>\n",
       "      <td>-0.380000</td>\n",
       "    </tr>\n",
       "    <tr>\n",
       "      <td>3</td>\n",
       "      <td>2020-07-02</td>\n",
       "      <td>SW</td>\n",
       "      <td>2020-07-06</td>\n",
       "      <td>2020-07-13</td>\n",
       "      <td>-0.380000</td>\n",
       "    </tr>\n",
       "    <tr>\n",
       "      <td>4</td>\n",
       "      <td>2020-07-02</td>\n",
       "      <td>2W</td>\n",
       "      <td>2020-07-06</td>\n",
       "      <td>2020-07-20</td>\n",
       "      <td>-0.380000</td>\n",
       "    </tr>\n",
       "    <tr>\n",
       "      <td>5</td>\n",
       "      <td>2020-07-02</td>\n",
       "      <td>3W</td>\n",
       "      <td>2020-07-06</td>\n",
       "      <td>2020-07-27</td>\n",
       "      <td>-0.380000</td>\n",
       "    </tr>\n",
       "    <tr>\n",
       "      <td>6</td>\n",
       "      <td>2020-07-02</td>\n",
       "      <td>1M</td>\n",
       "      <td>2020-07-06</td>\n",
       "      <td>2020-08-06</td>\n",
       "      <td>-0.380000</td>\n",
       "    </tr>\n",
       "    <tr>\n",
       "      <td>7</td>\n",
       "      <td>2020-07-02</td>\n",
       "      <td>2M</td>\n",
       "      <td>2020-07-06</td>\n",
       "      <td>2020-09-08</td>\n",
       "      <td>-0.750000</td>\n",
       "    </tr>\n",
       "    <tr>\n",
       "      <td>8</td>\n",
       "      <td>2020-07-02</td>\n",
       "      <td>3M</td>\n",
       "      <td>2020-07-06</td>\n",
       "      <td>2020-10-06</td>\n",
       "      <td>-0.750000</td>\n",
       "    </tr>\n",
       "    <tr>\n",
       "      <td>9</td>\n",
       "      <td>2020-07-02</td>\n",
       "      <td>4M</td>\n",
       "      <td>2020-07-06</td>\n",
       "      <td>2020-11-06</td>\n",
       "      <td>-0.969022</td>\n",
       "    </tr>\n",
       "    <tr>\n",
       "      <td>10</td>\n",
       "      <td>2020-07-02</td>\n",
       "      <td>5M</td>\n",
       "      <td>2020-07-06</td>\n",
       "      <td>2020-12-07</td>\n",
       "      <td>-1.188043</td>\n",
       "    </tr>\n",
       "    <tr>\n",
       "      <td>11</td>\n",
       "      <td>2020-07-02</td>\n",
       "      <td>6M</td>\n",
       "      <td>2020-07-06</td>\n",
       "      <td>2021-01-06</td>\n",
       "      <td>-1.400000</td>\n",
       "    </tr>\n",
       "    <tr>\n",
       "      <td>12</td>\n",
       "      <td>2020-07-02</td>\n",
       "      <td>7M</td>\n",
       "      <td>2020-07-06</td>\n",
       "      <td>2021-02-08</td>\n",
       "      <td>-1.436667</td>\n",
       "    </tr>\n",
       "    <tr>\n",
       "      <td>13</td>\n",
       "      <td>2020-07-02</td>\n",
       "      <td>8M</td>\n",
       "      <td>2020-07-06</td>\n",
       "      <td>2021-03-08</td>\n",
       "      <td>-1.467778</td>\n",
       "    </tr>\n",
       "    <tr>\n",
       "      <td>14</td>\n",
       "      <td>2020-07-02</td>\n",
       "      <td>9M</td>\n",
       "      <td>2020-07-06</td>\n",
       "      <td>2021-04-06</td>\n",
       "      <td>-1.500000</td>\n",
       "    </tr>\n",
       "    <tr>\n",
       "      <td>15</td>\n",
       "      <td>2020-07-02</td>\n",
       "      <td>10M</td>\n",
       "      <td>2020-07-06</td>\n",
       "      <td>2021-05-06</td>\n",
       "      <td>-1.500000</td>\n",
       "    </tr>\n",
       "    <tr>\n",
       "      <td>16</td>\n",
       "      <td>2020-07-02</td>\n",
       "      <td>11M</td>\n",
       "      <td>2020-07-06</td>\n",
       "      <td>2021-06-07</td>\n",
       "      <td>-1.500000</td>\n",
       "    </tr>\n",
       "    <tr>\n",
       "      <td>17</td>\n",
       "      <td>2020-07-02</td>\n",
       "      <td>1Y</td>\n",
       "      <td>2020-07-06</td>\n",
       "      <td>2021-07-06</td>\n",
       "      <td>-1.500000</td>\n",
       "    </tr>\n",
       "    <tr>\n",
       "      <td>18</td>\n",
       "      <td>2020-07-02</td>\n",
       "      <td>15M</td>\n",
       "      <td>2020-07-06</td>\n",
       "      <td>2021-10-06</td>\n",
       "      <td>-1.260548</td>\n",
       "    </tr>\n",
       "    <tr>\n",
       "      <td>19</td>\n",
       "      <td>2020-07-02</td>\n",
       "      <td>18M</td>\n",
       "      <td>2020-07-06</td>\n",
       "      <td>2022-01-06</td>\n",
       "      <td>-1.021096</td>\n",
       "    </tr>\n",
       "    <tr>\n",
       "      <td>20</td>\n",
       "      <td>2020-07-02</td>\n",
       "      <td>21M</td>\n",
       "      <td>2020-07-06</td>\n",
       "      <td>2022-04-06</td>\n",
       "      <td>-0.786849</td>\n",
       "    </tr>\n",
       "    <tr>\n",
       "      <td>21</td>\n",
       "      <td>2020-07-02</td>\n",
       "      <td>2Y</td>\n",
       "      <td>2020-07-06</td>\n",
       "      <td>2022-07-06</td>\n",
       "      <td>-0.550000</td>\n",
       "    </tr>\n",
       "    <tr>\n",
       "      <td>22</td>\n",
       "      <td>2020-07-02</td>\n",
       "      <td>3Y</td>\n",
       "      <td>2020-07-06</td>\n",
       "      <td>2023-07-06</td>\n",
       "      <td>-0.550000</td>\n",
       "    </tr>\n",
       "    <tr>\n",
       "      <td>23</td>\n",
       "      <td>2020-07-02</td>\n",
       "      <td>4Y</td>\n",
       "      <td>2020-07-06</td>\n",
       "      <td>2024-07-08</td>\n",
       "      <td>-0.550000</td>\n",
       "    </tr>\n",
       "    <tr>\n",
       "      <td>24</td>\n",
       "      <td>2020-07-02</td>\n",
       "      <td>5Y</td>\n",
       "      <td>2020-07-06</td>\n",
       "      <td>2025-07-07</td>\n",
       "      <td>-0.550000</td>\n",
       "    </tr>\n",
       "    <tr>\n",
       "      <td>25</td>\n",
       "      <td>2020-07-02</td>\n",
       "      <td>6Y</td>\n",
       "      <td>2020-07-06</td>\n",
       "      <td>2026-07-06</td>\n",
       "      <td>-0.550000</td>\n",
       "    </tr>\n",
       "    <tr>\n",
       "      <td>26</td>\n",
       "      <td>2020-07-02</td>\n",
       "      <td>7Y</td>\n",
       "      <td>2020-07-06</td>\n",
       "      <td>2027-07-06</td>\n",
       "      <td>-0.550000</td>\n",
       "    </tr>\n",
       "    <tr>\n",
       "      <td>27</td>\n",
       "      <td>2020-07-02</td>\n",
       "      <td>8Y</td>\n",
       "      <td>2020-07-06</td>\n",
       "      <td>2028-07-06</td>\n",
       "      <td>-0.550000</td>\n",
       "    </tr>\n",
       "    <tr>\n",
       "      <td>28</td>\n",
       "      <td>2020-07-02</td>\n",
       "      <td>9Y</td>\n",
       "      <td>2020-07-06</td>\n",
       "      <td>2029-07-06</td>\n",
       "      <td>-0.550000</td>\n",
       "    </tr>\n",
       "    <tr>\n",
       "      <td>29</td>\n",
       "      <td>2020-07-02</td>\n",
       "      <td>10Y</td>\n",
       "      <td>2020-07-06</td>\n",
       "      <td>2030-07-08</td>\n",
       "      <td>-0.550000</td>\n",
       "    </tr>\n",
       "  </tbody>\n",
       "</table>\n",
       "</div>"
      ],
      "text/plain": [
       "            DATE TENOR      START        END      RATE\n",
       "index                                                 \n",
       "0     2020-07-02    ON 2020-07-02 2020-07-03 -0.380000\n",
       "1     2020-07-02    TN 2020-07-03 2020-07-06 -0.380000\n",
       "2     2020-07-02    SN 2020-07-06 2020-07-07 -0.380000\n",
       "3     2020-07-02    SW 2020-07-06 2020-07-13 -0.380000\n",
       "4     2020-07-02    2W 2020-07-06 2020-07-20 -0.380000\n",
       "5     2020-07-02    3W 2020-07-06 2020-07-27 -0.380000\n",
       "6     2020-07-02    1M 2020-07-06 2020-08-06 -0.380000\n",
       "7     2020-07-02    2M 2020-07-06 2020-09-08 -0.750000\n",
       "8     2020-07-02    3M 2020-07-06 2020-10-06 -0.750000\n",
       "9     2020-07-02    4M 2020-07-06 2020-11-06 -0.969022\n",
       "10    2020-07-02    5M 2020-07-06 2020-12-07 -1.188043\n",
       "11    2020-07-02    6M 2020-07-06 2021-01-06 -1.400000\n",
       "12    2020-07-02    7M 2020-07-06 2021-02-08 -1.436667\n",
       "13    2020-07-02    8M 2020-07-06 2021-03-08 -1.467778\n",
       "14    2020-07-02    9M 2020-07-06 2021-04-06 -1.500000\n",
       "15    2020-07-02   10M 2020-07-06 2021-05-06 -1.500000\n",
       "16    2020-07-02   11M 2020-07-06 2021-06-07 -1.500000\n",
       "17    2020-07-02    1Y 2020-07-06 2021-07-06 -1.500000\n",
       "18    2020-07-02   15M 2020-07-06 2021-10-06 -1.260548\n",
       "19    2020-07-02   18M 2020-07-06 2022-01-06 -1.021096\n",
       "20    2020-07-02   21M 2020-07-06 2022-04-06 -0.786849\n",
       "21    2020-07-02    2Y 2020-07-06 2022-07-06 -0.550000\n",
       "22    2020-07-02    3Y 2020-07-06 2023-07-06 -0.550000\n",
       "23    2020-07-02    4Y 2020-07-06 2024-07-08 -0.550000\n",
       "24    2020-07-02    5Y 2020-07-06 2025-07-07 -0.550000\n",
       "25    2020-07-02    6Y 2020-07-06 2026-07-06 -0.550000\n",
       "26    2020-07-02    7Y 2020-07-06 2027-07-06 -0.550000\n",
       "27    2020-07-02    8Y 2020-07-06 2028-07-06 -0.550000\n",
       "28    2020-07-02    9Y 2020-07-06 2029-07-06 -0.550000\n",
       "29    2020-07-02   10Y 2020-07-06 2030-07-08 -0.550000"
      ]
     },
     "execution_count": 24,
     "metadata": {},
     "output_type": "execute_result"
    }
   ],
   "source": [
    "# 2 lending rate update\n",
    "lending_rate_rt, lending_rate_ref_af = rate_update(\n",
    "    session, calendar_ref, transaction_date, tenor_list, lending_rate, lending_rate_field, lending_rate_chain)\n",
    "lending_rate_rt"
   ]
  },
  {
   "cell_type": "markdown",
   "metadata": {},
   "source": [
    "### Step 6: Calculate Forward Swap Points and Forward Swap Prices"
   ]
  },
  {
   "cell_type": "code",
   "execution_count": 25,
   "metadata": {},
   "outputs": [
    {
     "name": "stderr",
     "output_type": "stream",
     "text": [
      "2020-07-02 18:59:52,784 P[13896] [MainThread 18812] Swap point calculating\n"
     ]
    },
    {
     "data": {
      "text/html": [
       "<div>\n",
       "<style scoped>\n",
       "    .dataframe tbody tr th:only-of-type {\n",
       "        vertical-align: middle;\n",
       "    }\n",
       "\n",
       "    .dataframe tbody tr th {\n",
       "        vertical-align: top;\n",
       "    }\n",
       "\n",
       "    .dataframe thead th {\n",
       "        text-align: right;\n",
       "    }\n",
       "</style>\n",
       "<table border=\"1\" class=\"dataframe\">\n",
       "  <thead>\n",
       "    <tr style=\"text-align: right;\">\n",
       "      <th></th>\n",
       "      <th>DATE</th>\n",
       "      <th>TENOR</th>\n",
       "      <th>START</th>\n",
       "      <th>END</th>\n",
       "      <th>BID_RATE</th>\n",
       "      <th>ASK_RATE</th>\n",
       "      <th>DAYS</th>\n",
       "      <th>BID_SWAP_POINT</th>\n",
       "      <th>ASK_SWAP_POINT</th>\n",
       "      <th>BID_SWAP_PRICE</th>\n",
       "      <th>ASK_SWAP_PRICE</th>\n",
       "    </tr>\n",
       "    <tr>\n",
       "      <th>index</th>\n",
       "      <th></th>\n",
       "      <th></th>\n",
       "      <th></th>\n",
       "      <th></th>\n",
       "      <th></th>\n",
       "      <th></th>\n",
       "      <th></th>\n",
       "      <th></th>\n",
       "      <th></th>\n",
       "      <th></th>\n",
       "      <th></th>\n",
       "    </tr>\n",
       "  </thead>\n",
       "  <tbody>\n",
       "    <tr>\n",
       "      <td>0</td>\n",
       "      <td>2020-07-02</td>\n",
       "      <td>ON</td>\n",
       "      <td>2020-07-02</td>\n",
       "      <td>2020-07-03</td>\n",
       "      <td>-0.380000</td>\n",
       "      <td>-0.300000</td>\n",
       "      <td>1.0</td>\n",
       "      <td>-1.988217</td>\n",
       "      <td>-1.590193</td>\n",
       "      <td>-0.019882</td>\n",
       "      <td>-0.015902</td>\n",
       "    </tr>\n",
       "    <tr>\n",
       "      <td>1</td>\n",
       "      <td>2020-07-02</td>\n",
       "      <td>TN</td>\n",
       "      <td>2020-07-03</td>\n",
       "      <td>2020-07-06</td>\n",
       "      <td>-0.380000</td>\n",
       "      <td>-0.300000</td>\n",
       "      <td>3.0</td>\n",
       "      <td>-5.964652</td>\n",
       "      <td>-4.770579</td>\n",
       "      <td>-0.059647</td>\n",
       "      <td>-0.047706</td>\n",
       "    </tr>\n",
       "    <tr>\n",
       "      <td>2</td>\n",
       "      <td>2020-07-02</td>\n",
       "      <td>SN</td>\n",
       "      <td>2020-07-06</td>\n",
       "      <td>2020-07-07</td>\n",
       "      <td>-0.380000</td>\n",
       "      <td>-0.300000</td>\n",
       "      <td>1.0</td>\n",
       "      <td>-1.988217</td>\n",
       "      <td>-1.590193</td>\n",
       "      <td>-0.019882</td>\n",
       "      <td>-0.015902</td>\n",
       "    </tr>\n",
       "    <tr>\n",
       "      <td>3</td>\n",
       "      <td>2020-07-02</td>\n",
       "      <td>SW</td>\n",
       "      <td>2020-07-06</td>\n",
       "      <td>2020-07-13</td>\n",
       "      <td>-0.380000</td>\n",
       "      <td>-0.300000</td>\n",
       "      <td>7.0</td>\n",
       "      <td>-13.917521</td>\n",
       "      <td>-11.131352</td>\n",
       "      <td>-0.139175</td>\n",
       "      <td>-0.111314</td>\n",
       "    </tr>\n",
       "    <tr>\n",
       "      <td>4</td>\n",
       "      <td>2020-07-02</td>\n",
       "      <td>2W</td>\n",
       "      <td>2020-07-06</td>\n",
       "      <td>2020-07-20</td>\n",
       "      <td>-0.380000</td>\n",
       "      <td>-0.300000</td>\n",
       "      <td>14.0</td>\n",
       "      <td>-27.835042</td>\n",
       "      <td>-22.262704</td>\n",
       "      <td>-0.278350</td>\n",
       "      <td>-0.222627</td>\n",
       "    </tr>\n",
       "    <tr>\n",
       "      <td>5</td>\n",
       "      <td>2020-07-02</td>\n",
       "      <td>3W</td>\n",
       "      <td>2020-07-06</td>\n",
       "      <td>2020-07-27</td>\n",
       "      <td>-0.380000</td>\n",
       "      <td>-0.300000</td>\n",
       "      <td>21.0</td>\n",
       "      <td>-41.752562</td>\n",
       "      <td>-33.394056</td>\n",
       "      <td>-0.417526</td>\n",
       "      <td>-0.333941</td>\n",
       "    </tr>\n",
       "    <tr>\n",
       "      <td>6</td>\n",
       "      <td>2020-07-02</td>\n",
       "      <td>1M</td>\n",
       "      <td>2020-07-06</td>\n",
       "      <td>2020-08-06</td>\n",
       "      <td>-0.380000</td>\n",
       "      <td>-0.300000</td>\n",
       "      <td>31.0</td>\n",
       "      <td>-61.634735</td>\n",
       "      <td>-49.295988</td>\n",
       "      <td>-0.616347</td>\n",
       "      <td>-0.492960</td>\n",
       "    </tr>\n",
       "    <tr>\n",
       "      <td>7</td>\n",
       "      <td>2020-07-02</td>\n",
       "      <td>2M</td>\n",
       "      <td>2020-07-06</td>\n",
       "      <td>2020-09-08</td>\n",
       "      <td>-0.750000</td>\n",
       "      <td>-0.670000</td>\n",
       "      <td>64.0</td>\n",
       "      <td>-251.143233</td>\n",
       "      <td>-227.291608</td>\n",
       "      <td>-2.511432</td>\n",
       "      <td>-2.272916</td>\n",
       "    </tr>\n",
       "    <tr>\n",
       "      <td>8</td>\n",
       "      <td>2020-07-02</td>\n",
       "      <td>3M</td>\n",
       "      <td>2020-07-06</td>\n",
       "      <td>2020-10-06</td>\n",
       "      <td>-0.750000</td>\n",
       "      <td>-0.670000</td>\n",
       "      <td>92.0</td>\n",
       "      <td>-361.018397</td>\n",
       "      <td>-326.731686</td>\n",
       "      <td>-3.610184</td>\n",
       "      <td>-3.267317</td>\n",
       "    </tr>\n",
       "    <tr>\n",
       "      <td>9</td>\n",
       "      <td>2020-07-02</td>\n",
       "      <td>4M</td>\n",
       "      <td>2020-07-06</td>\n",
       "      <td>2020-11-06</td>\n",
       "      <td>-0.969022</td>\n",
       "      <td>-0.889022</td>\n",
       "      <td>123.0</td>\n",
       "      <td>-623.618334</td>\n",
       "      <td>-579.623675</td>\n",
       "      <td>-6.236183</td>\n",
       "      <td>-5.796237</td>\n",
       "    </tr>\n",
       "    <tr>\n",
       "      <td>10</td>\n",
       "      <td>2020-07-02</td>\n",
       "      <td>5M</td>\n",
       "      <td>2020-07-06</td>\n",
       "      <td>2020-12-07</td>\n",
       "      <td>-1.188043</td>\n",
       "      <td>-1.108043</td>\n",
       "      <td>154.0</td>\n",
       "      <td>-957.267465</td>\n",
       "      <td>-904.494950</td>\n",
       "      <td>-9.572675</td>\n",
       "      <td>-9.044950</td>\n",
       "    </tr>\n",
       "    <tr>\n",
       "      <td>11</td>\n",
       "      <td>2020-07-02</td>\n",
       "      <td>6M</td>\n",
       "      <td>2020-07-06</td>\n",
       "      <td>2021-01-06</td>\n",
       "      <td>-1.400000</td>\n",
       "      <td>-1.320000</td>\n",
       "      <td>184.0</td>\n",
       "      <td>-1347.802016</td>\n",
       "      <td>-1287.420375</td>\n",
       "      <td>-13.478020</td>\n",
       "      <td>-12.874204</td>\n",
       "    </tr>\n",
       "    <tr>\n",
       "      <td>12</td>\n",
       "      <td>2020-07-02</td>\n",
       "      <td>7M</td>\n",
       "      <td>2020-07-06</td>\n",
       "      <td>2021-02-08</td>\n",
       "      <td>-1.436667</td>\n",
       "      <td>-1.356667</td>\n",
       "      <td>217.0</td>\n",
       "      <td>-1631.157857</td>\n",
       "      <td>-1560.491876</td>\n",
       "      <td>-16.311579</td>\n",
       "      <td>-15.604919</td>\n",
       "    </tr>\n",
       "    <tr>\n",
       "      <td>13</td>\n",
       "      <td>2020-07-02</td>\n",
       "      <td>8M</td>\n",
       "      <td>2020-07-06</td>\n",
       "      <td>2021-03-08</td>\n",
       "      <td>-1.467778</td>\n",
       "      <td>-1.387778</td>\n",
       "      <td>245.0</td>\n",
       "      <td>-1881.510454</td>\n",
       "      <td>-1802.248352</td>\n",
       "      <td>-18.815105</td>\n",
       "      <td>-18.022484</td>\n",
       "    </tr>\n",
       "    <tr>\n",
       "      <td>14</td>\n",
       "      <td>2020-07-02</td>\n",
       "      <td>9M</td>\n",
       "      <td>2020-07-06</td>\n",
       "      <td>2021-04-06</td>\n",
       "      <td>-1.500000</td>\n",
       "      <td>-1.420000</td>\n",
       "      <td>274.0</td>\n",
       "      <td>-2150.413932</td>\n",
       "      <td>-2062.374504</td>\n",
       "      <td>-21.504139</td>\n",
       "      <td>-20.623745</td>\n",
       "    </tr>\n",
       "    <tr>\n",
       "      <td>15</td>\n",
       "      <td>2020-07-02</td>\n",
       "      <td>10M</td>\n",
       "      <td>2020-07-06</td>\n",
       "      <td>2021-05-06</td>\n",
       "      <td>-1.500000</td>\n",
       "      <td>-1.420000</td>\n",
       "      <td>304.0</td>\n",
       "      <td>-2385.860712</td>\n",
       "      <td>-2288.181931</td>\n",
       "      <td>-23.858607</td>\n",
       "      <td>-22.881819</td>\n",
       "    </tr>\n",
       "    <tr>\n",
       "      <td>16</td>\n",
       "      <td>2020-07-02</td>\n",
       "      <td>11M</td>\n",
       "      <td>2020-07-06</td>\n",
       "      <td>2021-06-07</td>\n",
       "      <td>-1.500000</td>\n",
       "      <td>-1.420000</td>\n",
       "      <td>336.0</td>\n",
       "      <td>-2637.003945</td>\n",
       "      <td>-2529.043187</td>\n",
       "      <td>-26.370039</td>\n",
       "      <td>-25.290432</td>\n",
       "    </tr>\n",
       "    <tr>\n",
       "      <td>17</td>\n",
       "      <td>2020-07-02</td>\n",
       "      <td>1Y</td>\n",
       "      <td>2020-07-06</td>\n",
       "      <td>2021-07-06</td>\n",
       "      <td>-1.500000</td>\n",
       "      <td>-1.420000</td>\n",
       "      <td>365.0</td>\n",
       "      <td>-2864.602500</td>\n",
       "      <td>-2747.323700</td>\n",
       "      <td>-28.646025</td>\n",
       "      <td>-27.473237</td>\n",
       "    </tr>\n",
       "    <tr>\n",
       "      <td>18</td>\n",
       "      <td>2020-07-02</td>\n",
       "      <td>15M</td>\n",
       "      <td>2020-07-06</td>\n",
       "      <td>2021-10-06</td>\n",
       "      <td>-1.260548</td>\n",
       "      <td>-1.180548</td>\n",
       "      <td>457.0</td>\n",
       "      <td>-3014.087195</td>\n",
       "      <td>-2859.752534</td>\n",
       "      <td>-30.140872</td>\n",
       "      <td>-28.597525</td>\n",
       "    </tr>\n",
       "    <tr>\n",
       "      <td>19</td>\n",
       "      <td>2020-07-02</td>\n",
       "      <td>18M</td>\n",
       "      <td>2020-07-06</td>\n",
       "      <td>2022-01-06</td>\n",
       "      <td>-1.021096</td>\n",
       "      <td>-0.941096</td>\n",
       "      <td>549.0</td>\n",
       "      <td>-2933.047632</td>\n",
       "      <td>-2738.639357</td>\n",
       "      <td>-29.330476</td>\n",
       "      <td>-27.386394</td>\n",
       "    </tr>\n",
       "    <tr>\n",
       "      <td>20</td>\n",
       "      <td>2020-07-02</td>\n",
       "      <td>21M</td>\n",
       "      <td>2020-07-06</td>\n",
       "      <td>2022-04-06</td>\n",
       "      <td>-0.786849</td>\n",
       "      <td>-0.706849</td>\n",
       "      <td>639.0</td>\n",
       "      <td>-2630.708163</td>\n",
       "      <td>-2394.177381</td>\n",
       "      <td>-26.307082</td>\n",
       "      <td>-23.941774</td>\n",
       "    </tr>\n",
       "    <tr>\n",
       "      <td>21</td>\n",
       "      <td>2020-07-02</td>\n",
       "      <td>2Y</td>\n",
       "      <td>2020-07-06</td>\n",
       "      <td>2022-07-06</td>\n",
       "      <td>-0.550000</td>\n",
       "      <td>-0.470000</td>\n",
       "      <td>730.0</td>\n",
       "      <td>-2100.708500</td>\n",
       "      <td>-1818.650900</td>\n",
       "      <td>-21.007085</td>\n",
       "      <td>-18.186509</td>\n",
       "    </tr>\n",
       "    <tr>\n",
       "      <td>22</td>\n",
       "      <td>2020-07-02</td>\n",
       "      <td>3Y</td>\n",
       "      <td>2020-07-06</td>\n",
       "      <td>2023-07-06</td>\n",
       "      <td>-0.550000</td>\n",
       "      <td>-0.470000</td>\n",
       "      <td>1095.0</td>\n",
       "      <td>-3151.062750</td>\n",
       "      <td>-2727.976350</td>\n",
       "      <td>-31.510628</td>\n",
       "      <td>-27.279763</td>\n",
       "    </tr>\n",
       "    <tr>\n",
       "      <td>23</td>\n",
       "      <td>2020-07-02</td>\n",
       "      <td>4Y</td>\n",
       "      <td>2020-07-06</td>\n",
       "      <td>2024-07-08</td>\n",
       "      <td>-0.550000</td>\n",
       "      <td>-0.470000</td>\n",
       "      <td>1463.0</td>\n",
       "      <td>-4210.050049</td>\n",
       "      <td>-3644.775708</td>\n",
       "      <td>-42.100500</td>\n",
       "      <td>-36.447757</td>\n",
       "    </tr>\n",
       "    <tr>\n",
       "      <td>24</td>\n",
       "      <td>2020-07-02</td>\n",
       "      <td>5Y</td>\n",
       "      <td>2020-07-06</td>\n",
       "      <td>2025-07-07</td>\n",
       "      <td>-0.550000</td>\n",
       "      <td>-0.470000</td>\n",
       "      <td>1827.0</td>\n",
       "      <td>-5257.526616</td>\n",
       "      <td>-4551.609855</td>\n",
       "      <td>-52.575266</td>\n",
       "      <td>-45.516099</td>\n",
       "    </tr>\n",
       "    <tr>\n",
       "      <td>25</td>\n",
       "      <td>2020-07-02</td>\n",
       "      <td>6Y</td>\n",
       "      <td>2020-07-06</td>\n",
       "      <td>2026-07-06</td>\n",
       "      <td>-0.550000</td>\n",
       "      <td>-0.470000</td>\n",
       "      <td>2191.0</td>\n",
       "      <td>-6305.003183</td>\n",
       "      <td>-5458.444003</td>\n",
       "      <td>-63.050032</td>\n",
       "      <td>-54.584440</td>\n",
       "    </tr>\n",
       "    <tr>\n",
       "      <td>26</td>\n",
       "      <td>2020-07-02</td>\n",
       "      <td>7Y</td>\n",
       "      <td>2020-07-06</td>\n",
       "      <td>2027-07-06</td>\n",
       "      <td>-0.550000</td>\n",
       "      <td>-0.470000</td>\n",
       "      <td>2556.0</td>\n",
       "      <td>-7355.357433</td>\n",
       "      <td>-6367.769453</td>\n",
       "      <td>-73.553574</td>\n",
       "      <td>-63.677695</td>\n",
       "    </tr>\n",
       "    <tr>\n",
       "      <td>27</td>\n",
       "      <td>2020-07-02</td>\n",
       "      <td>8Y</td>\n",
       "      <td>2020-07-06</td>\n",
       "      <td>2028-07-06</td>\n",
       "      <td>-0.550000</td>\n",
       "      <td>-0.470000</td>\n",
       "      <td>2922.0</td>\n",
       "      <td>-8408.589366</td>\n",
       "      <td>-7279.586205</td>\n",
       "      <td>-84.085894</td>\n",
       "      <td>-72.795862</td>\n",
       "    </tr>\n",
       "    <tr>\n",
       "      <td>28</td>\n",
       "      <td>2020-07-02</td>\n",
       "      <td>9Y</td>\n",
       "      <td>2020-07-06</td>\n",
       "      <td>2029-07-06</td>\n",
       "      <td>-0.550000</td>\n",
       "      <td>-0.470000</td>\n",
       "      <td>3287.0</td>\n",
       "      <td>-9458.943616</td>\n",
       "      <td>-8188.911655</td>\n",
       "      <td>-94.589436</td>\n",
       "      <td>-81.889117</td>\n",
       "    </tr>\n",
       "    <tr>\n",
       "      <td>29</td>\n",
       "      <td>2020-07-02</td>\n",
       "      <td>10Y</td>\n",
       "      <td>2020-07-06</td>\n",
       "      <td>2030-07-08</td>\n",
       "      <td>-0.550000</td>\n",
       "      <td>-0.470000</td>\n",
       "      <td>3654.0</td>\n",
       "      <td>-10515.053232</td>\n",
       "      <td>-9103.219710</td>\n",
       "      <td>-105.150532</td>\n",
       "      <td>-91.032197</td>\n",
       "    </tr>\n",
       "  </tbody>\n",
       "</table>\n",
       "</div>"
      ],
      "text/plain": [
       "            DATE TENOR      START        END  BID_RATE  ASK_RATE    DAYS  \\\n",
       "index                                                                      \n",
       "0     2020-07-02    ON 2020-07-02 2020-07-03 -0.380000 -0.300000     1.0   \n",
       "1     2020-07-02    TN 2020-07-03 2020-07-06 -0.380000 -0.300000     3.0   \n",
       "2     2020-07-02    SN 2020-07-06 2020-07-07 -0.380000 -0.300000     1.0   \n",
       "3     2020-07-02    SW 2020-07-06 2020-07-13 -0.380000 -0.300000     7.0   \n",
       "4     2020-07-02    2W 2020-07-06 2020-07-20 -0.380000 -0.300000    14.0   \n",
       "5     2020-07-02    3W 2020-07-06 2020-07-27 -0.380000 -0.300000    21.0   \n",
       "6     2020-07-02    1M 2020-07-06 2020-08-06 -0.380000 -0.300000    31.0   \n",
       "7     2020-07-02    2M 2020-07-06 2020-09-08 -0.750000 -0.670000    64.0   \n",
       "8     2020-07-02    3M 2020-07-06 2020-10-06 -0.750000 -0.670000    92.0   \n",
       "9     2020-07-02    4M 2020-07-06 2020-11-06 -0.969022 -0.889022   123.0   \n",
       "10    2020-07-02    5M 2020-07-06 2020-12-07 -1.188043 -1.108043   154.0   \n",
       "11    2020-07-02    6M 2020-07-06 2021-01-06 -1.400000 -1.320000   184.0   \n",
       "12    2020-07-02    7M 2020-07-06 2021-02-08 -1.436667 -1.356667   217.0   \n",
       "13    2020-07-02    8M 2020-07-06 2021-03-08 -1.467778 -1.387778   245.0   \n",
       "14    2020-07-02    9M 2020-07-06 2021-04-06 -1.500000 -1.420000   274.0   \n",
       "15    2020-07-02   10M 2020-07-06 2021-05-06 -1.500000 -1.420000   304.0   \n",
       "16    2020-07-02   11M 2020-07-06 2021-06-07 -1.500000 -1.420000   336.0   \n",
       "17    2020-07-02    1Y 2020-07-06 2021-07-06 -1.500000 -1.420000   365.0   \n",
       "18    2020-07-02   15M 2020-07-06 2021-10-06 -1.260548 -1.180548   457.0   \n",
       "19    2020-07-02   18M 2020-07-06 2022-01-06 -1.021096 -0.941096   549.0   \n",
       "20    2020-07-02   21M 2020-07-06 2022-04-06 -0.786849 -0.706849   639.0   \n",
       "21    2020-07-02    2Y 2020-07-06 2022-07-06 -0.550000 -0.470000   730.0   \n",
       "22    2020-07-02    3Y 2020-07-06 2023-07-06 -0.550000 -0.470000  1095.0   \n",
       "23    2020-07-02    4Y 2020-07-06 2024-07-08 -0.550000 -0.470000  1463.0   \n",
       "24    2020-07-02    5Y 2020-07-06 2025-07-07 -0.550000 -0.470000  1827.0   \n",
       "25    2020-07-02    6Y 2020-07-06 2026-07-06 -0.550000 -0.470000  2191.0   \n",
       "26    2020-07-02    7Y 2020-07-06 2027-07-06 -0.550000 -0.470000  2556.0   \n",
       "27    2020-07-02    8Y 2020-07-06 2028-07-06 -0.550000 -0.470000  2922.0   \n",
       "28    2020-07-02    9Y 2020-07-06 2029-07-06 -0.550000 -0.470000  3287.0   \n",
       "29    2020-07-02   10Y 2020-07-06 2030-07-08 -0.550000 -0.470000  3654.0   \n",
       "\n",
       "       BID_SWAP_POINT  ASK_SWAP_POINT  BID_SWAP_PRICE  ASK_SWAP_PRICE  \n",
       "index                                                                  \n",
       "0           -1.988217       -1.590193       -0.019882       -0.015902  \n",
       "1           -5.964652       -4.770579       -0.059647       -0.047706  \n",
       "2           -1.988217       -1.590193       -0.019882       -0.015902  \n",
       "3          -13.917521      -11.131352       -0.139175       -0.111314  \n",
       "4          -27.835042      -22.262704       -0.278350       -0.222627  \n",
       "5          -41.752562      -33.394056       -0.417526       -0.333941  \n",
       "6          -61.634735      -49.295988       -0.616347       -0.492960  \n",
       "7         -251.143233     -227.291608       -2.511432       -2.272916  \n",
       "8         -361.018397     -326.731686       -3.610184       -3.267317  \n",
       "9         -623.618334     -579.623675       -6.236183       -5.796237  \n",
       "10        -957.267465     -904.494950       -9.572675       -9.044950  \n",
       "11       -1347.802016    -1287.420375      -13.478020      -12.874204  \n",
       "12       -1631.157857    -1560.491876      -16.311579      -15.604919  \n",
       "13       -1881.510454    -1802.248352      -18.815105      -18.022484  \n",
       "14       -2150.413932    -2062.374504      -21.504139      -20.623745  \n",
       "15       -2385.860712    -2288.181931      -23.858607      -22.881819  \n",
       "16       -2637.003945    -2529.043187      -26.370039      -25.290432  \n",
       "17       -2864.602500    -2747.323700      -28.646025      -27.473237  \n",
       "18       -3014.087195    -2859.752534      -30.140872      -28.597525  \n",
       "19       -2933.047632    -2738.639357      -29.330476      -27.386394  \n",
       "20       -2630.708163    -2394.177381      -26.307082      -23.941774  \n",
       "21       -2100.708500    -1818.650900      -21.007085      -18.186509  \n",
       "22       -3151.062750    -2727.976350      -31.510628      -27.279763  \n",
       "23       -4210.050049    -3644.775708      -42.100500      -36.447757  \n",
       "24       -5257.526616    -4551.609855      -52.575266      -45.516099  \n",
       "25       -6305.003183    -5458.444003      -63.050032      -54.584440  \n",
       "26       -7355.357433    -6367.769453      -73.553574      -63.677695  \n",
       "27       -8408.589366    -7279.586205      -84.085894      -72.795862  \n",
       "28       -9458.943616    -8188.911655      -94.589436      -81.889117  \n",
       "29      -10515.053232    -9103.219710     -105.150532      -91.032197  "
      ]
     },
     "execution_count": 25,
     "metadata": {},
     "output_type": "execute_result"
    }
   ],
   "source": [
    "df_swppoint = cal_swppoint(lending_rate_rt, spot_bid, spot_ask)\n",
    "df_swppoint"
   ]
  },
  {
   "cell_type": "markdown",
   "metadata": {},
   "source": [
    "### Step 7: Calculate Forward Outright Prices"
   ]
  },
  {
   "cell_type": "code",
   "execution_count": 26,
   "metadata": {
    "scrolled": true
   },
   "outputs": [
    {
     "name": "stderr",
     "output_type": "stream",
     "text": [
      "2020-07-02 18:59:52,834 P[13896] [MainThread 18812] Forward outright calculating\n"
     ]
    },
    {
     "data": {
      "text/html": [
       "<div>\n",
       "<style scoped>\n",
       "    .dataframe tbody tr th:only-of-type {\n",
       "        vertical-align: middle;\n",
       "    }\n",
       "\n",
       "    .dataframe tbody tr th {\n",
       "        vertical-align: top;\n",
       "    }\n",
       "\n",
       "    .dataframe thead th {\n",
       "        text-align: right;\n",
       "    }\n",
       "</style>\n",
       "<table border=\"1\" class=\"dataframe\">\n",
       "  <thead>\n",
       "    <tr style=\"text-align: right;\">\n",
       "      <th></th>\n",
       "      <th>DATE</th>\n",
       "      <th>TENOR</th>\n",
       "      <th>START</th>\n",
       "      <th>END</th>\n",
       "      <th>BID_RATE</th>\n",
       "      <th>ASK_RATE</th>\n",
       "      <th>DAYS</th>\n",
       "      <th>BID_SWAP_POINT</th>\n",
       "      <th>ASK_SWAP_POINT</th>\n",
       "      <th>BID_SWAP_PRICE</th>\n",
       "      <th>ASK_SWAP_PRICE</th>\n",
       "      <th>BID_FWDOUTRIGHT</th>\n",
       "      <th>ASK_FWDOUTRIGHT</th>\n",
       "    </tr>\n",
       "    <tr>\n",
       "      <th>index</th>\n",
       "      <th></th>\n",
       "      <th></th>\n",
       "      <th></th>\n",
       "      <th></th>\n",
       "      <th></th>\n",
       "      <th></th>\n",
       "      <th></th>\n",
       "      <th></th>\n",
       "      <th></th>\n",
       "      <th></th>\n",
       "      <th></th>\n",
       "      <th></th>\n",
       "      <th></th>\n",
       "    </tr>\n",
       "  </thead>\n",
       "  <tbody>\n",
       "    <tr>\n",
       "      <td>0</td>\n",
       "      <td>2020-07-02</td>\n",
       "      <td>ON</td>\n",
       "      <td>2020-07-02</td>\n",
       "      <td>2020-07-03</td>\n",
       "      <td>-0.380000</td>\n",
       "      <td>-0.300000</td>\n",
       "      <td>1.0</td>\n",
       "      <td>-1.988217</td>\n",
       "      <td>-1.590193</td>\n",
       "      <td>-0.019882</td>\n",
       "      <td>-0.015902</td>\n",
       "      <td>1909.798608</td>\n",
       "      <td>1934.814529</td>\n",
       "    </tr>\n",
       "    <tr>\n",
       "      <td>1</td>\n",
       "      <td>2020-07-02</td>\n",
       "      <td>TN</td>\n",
       "      <td>2020-07-03</td>\n",
       "      <td>2020-07-06</td>\n",
       "      <td>-0.380000</td>\n",
       "      <td>-0.300000</td>\n",
       "      <td>3.0</td>\n",
       "      <td>-5.964652</td>\n",
       "      <td>-4.770579</td>\n",
       "      <td>-0.059647</td>\n",
       "      <td>-0.047706</td>\n",
       "      <td>1909.782706</td>\n",
       "      <td>1934.794647</td>\n",
       "    </tr>\n",
       "    <tr>\n",
       "      <td>2</td>\n",
       "      <td>2020-07-02</td>\n",
       "      <td>SN</td>\n",
       "      <td>2020-07-06</td>\n",
       "      <td>2020-07-07</td>\n",
       "      <td>-0.380000</td>\n",
       "      <td>-0.300000</td>\n",
       "      <td>1.0</td>\n",
       "      <td>-1.988217</td>\n",
       "      <td>-1.590193</td>\n",
       "      <td>-0.019882</td>\n",
       "      <td>-0.015902</td>\n",
       "      <td>1909.715118</td>\n",
       "      <td>1934.719098</td>\n",
       "    </tr>\n",
       "    <tr>\n",
       "      <td>3</td>\n",
       "      <td>2020-07-02</td>\n",
       "      <td>SW</td>\n",
       "      <td>2020-07-06</td>\n",
       "      <td>2020-07-13</td>\n",
       "      <td>-0.380000</td>\n",
       "      <td>-0.300000</td>\n",
       "      <td>7.0</td>\n",
       "      <td>-13.917521</td>\n",
       "      <td>-11.131352</td>\n",
       "      <td>-0.139175</td>\n",
       "      <td>-0.111314</td>\n",
       "      <td>1909.595825</td>\n",
       "      <td>1934.623686</td>\n",
       "    </tr>\n",
       "    <tr>\n",
       "      <td>4</td>\n",
       "      <td>2020-07-02</td>\n",
       "      <td>2W</td>\n",
       "      <td>2020-07-06</td>\n",
       "      <td>2020-07-20</td>\n",
       "      <td>-0.380000</td>\n",
       "      <td>-0.300000</td>\n",
       "      <td>14.0</td>\n",
       "      <td>-27.835042</td>\n",
       "      <td>-22.262704</td>\n",
       "      <td>-0.278350</td>\n",
       "      <td>-0.222627</td>\n",
       "      <td>1909.456650</td>\n",
       "      <td>1934.512373</td>\n",
       "    </tr>\n",
       "    <tr>\n",
       "      <td>5</td>\n",
       "      <td>2020-07-02</td>\n",
       "      <td>3W</td>\n",
       "      <td>2020-07-06</td>\n",
       "      <td>2020-07-27</td>\n",
       "      <td>-0.380000</td>\n",
       "      <td>-0.300000</td>\n",
       "      <td>21.0</td>\n",
       "      <td>-41.752562</td>\n",
       "      <td>-33.394056</td>\n",
       "      <td>-0.417526</td>\n",
       "      <td>-0.333941</td>\n",
       "      <td>1909.317474</td>\n",
       "      <td>1934.401059</td>\n",
       "    </tr>\n",
       "    <tr>\n",
       "      <td>6</td>\n",
       "      <td>2020-07-02</td>\n",
       "      <td>1M</td>\n",
       "      <td>2020-07-06</td>\n",
       "      <td>2020-08-06</td>\n",
       "      <td>-0.380000</td>\n",
       "      <td>-0.300000</td>\n",
       "      <td>31.0</td>\n",
       "      <td>-61.634735</td>\n",
       "      <td>-49.295988</td>\n",
       "      <td>-0.616347</td>\n",
       "      <td>-0.492960</td>\n",
       "      <td>1909.118653</td>\n",
       "      <td>1934.242040</td>\n",
       "    </tr>\n",
       "    <tr>\n",
       "      <td>7</td>\n",
       "      <td>2020-07-02</td>\n",
       "      <td>2M</td>\n",
       "      <td>2020-07-06</td>\n",
       "      <td>2020-09-08</td>\n",
       "      <td>-0.750000</td>\n",
       "      <td>-0.670000</td>\n",
       "      <td>64.0</td>\n",
       "      <td>-251.143233</td>\n",
       "      <td>-227.291608</td>\n",
       "      <td>-2.511432</td>\n",
       "      <td>-2.272916</td>\n",
       "      <td>1907.223568</td>\n",
       "      <td>1932.462084</td>\n",
       "    </tr>\n",
       "    <tr>\n",
       "      <td>8</td>\n",
       "      <td>2020-07-02</td>\n",
       "      <td>3M</td>\n",
       "      <td>2020-07-06</td>\n",
       "      <td>2020-10-06</td>\n",
       "      <td>-0.750000</td>\n",
       "      <td>-0.670000</td>\n",
       "      <td>92.0</td>\n",
       "      <td>-361.018397</td>\n",
       "      <td>-326.731686</td>\n",
       "      <td>-3.610184</td>\n",
       "      <td>-3.267317</td>\n",
       "      <td>1906.124816</td>\n",
       "      <td>1931.467683</td>\n",
       "    </tr>\n",
       "    <tr>\n",
       "      <td>9</td>\n",
       "      <td>2020-07-02</td>\n",
       "      <td>4M</td>\n",
       "      <td>2020-07-06</td>\n",
       "      <td>2020-11-06</td>\n",
       "      <td>-0.969022</td>\n",
       "      <td>-0.889022</td>\n",
       "      <td>123.0</td>\n",
       "      <td>-623.618334</td>\n",
       "      <td>-579.623675</td>\n",
       "      <td>-6.236183</td>\n",
       "      <td>-5.796237</td>\n",
       "      <td>1903.498817</td>\n",
       "      <td>1928.938763</td>\n",
       "    </tr>\n",
       "    <tr>\n",
       "      <td>10</td>\n",
       "      <td>2020-07-02</td>\n",
       "      <td>5M</td>\n",
       "      <td>2020-07-06</td>\n",
       "      <td>2020-12-07</td>\n",
       "      <td>-1.188043</td>\n",
       "      <td>-1.108043</td>\n",
       "      <td>154.0</td>\n",
       "      <td>-957.267465</td>\n",
       "      <td>-904.494950</td>\n",
       "      <td>-9.572675</td>\n",
       "      <td>-9.044950</td>\n",
       "      <td>1900.162325</td>\n",
       "      <td>1925.690050</td>\n",
       "    </tr>\n",
       "    <tr>\n",
       "      <td>11</td>\n",
       "      <td>2020-07-02</td>\n",
       "      <td>6M</td>\n",
       "      <td>2020-07-06</td>\n",
       "      <td>2021-01-06</td>\n",
       "      <td>-1.400000</td>\n",
       "      <td>-1.320000</td>\n",
       "      <td>184.0</td>\n",
       "      <td>-1347.802016</td>\n",
       "      <td>-1287.420375</td>\n",
       "      <td>-13.478020</td>\n",
       "      <td>-12.874204</td>\n",
       "      <td>1896.256980</td>\n",
       "      <td>1921.860796</td>\n",
       "    </tr>\n",
       "    <tr>\n",
       "      <td>12</td>\n",
       "      <td>2020-07-02</td>\n",
       "      <td>7M</td>\n",
       "      <td>2020-07-06</td>\n",
       "      <td>2021-02-08</td>\n",
       "      <td>-1.436667</td>\n",
       "      <td>-1.356667</td>\n",
       "      <td>217.0</td>\n",
       "      <td>-1631.157857</td>\n",
       "      <td>-1560.491876</td>\n",
       "      <td>-16.311579</td>\n",
       "      <td>-15.604919</td>\n",
       "      <td>1893.423421</td>\n",
       "      <td>1919.130081</td>\n",
       "    </tr>\n",
       "    <tr>\n",
       "      <td>13</td>\n",
       "      <td>2020-07-02</td>\n",
       "      <td>8M</td>\n",
       "      <td>2020-07-06</td>\n",
       "      <td>2021-03-08</td>\n",
       "      <td>-1.467778</td>\n",
       "      <td>-1.387778</td>\n",
       "      <td>245.0</td>\n",
       "      <td>-1881.510454</td>\n",
       "      <td>-1802.248352</td>\n",
       "      <td>-18.815105</td>\n",
       "      <td>-18.022484</td>\n",
       "      <td>1890.919895</td>\n",
       "      <td>1916.712516</td>\n",
       "    </tr>\n",
       "    <tr>\n",
       "      <td>14</td>\n",
       "      <td>2020-07-02</td>\n",
       "      <td>9M</td>\n",
       "      <td>2020-07-06</td>\n",
       "      <td>2021-04-06</td>\n",
       "      <td>-1.500000</td>\n",
       "      <td>-1.420000</td>\n",
       "      <td>274.0</td>\n",
       "      <td>-2150.413932</td>\n",
       "      <td>-2062.374504</td>\n",
       "      <td>-21.504139</td>\n",
       "      <td>-20.623745</td>\n",
       "      <td>1888.230861</td>\n",
       "      <td>1914.111255</td>\n",
       "    </tr>\n",
       "    <tr>\n",
       "      <td>15</td>\n",
       "      <td>2020-07-02</td>\n",
       "      <td>10M</td>\n",
       "      <td>2020-07-06</td>\n",
       "      <td>2021-05-06</td>\n",
       "      <td>-1.500000</td>\n",
       "      <td>-1.420000</td>\n",
       "      <td>304.0</td>\n",
       "      <td>-2385.860712</td>\n",
       "      <td>-2288.181931</td>\n",
       "      <td>-23.858607</td>\n",
       "      <td>-22.881819</td>\n",
       "      <td>1885.876393</td>\n",
       "      <td>1911.853181</td>\n",
       "    </tr>\n",
       "    <tr>\n",
       "      <td>16</td>\n",
       "      <td>2020-07-02</td>\n",
       "      <td>11M</td>\n",
       "      <td>2020-07-06</td>\n",
       "      <td>2021-06-07</td>\n",
       "      <td>-1.500000</td>\n",
       "      <td>-1.420000</td>\n",
       "      <td>336.0</td>\n",
       "      <td>-2637.003945</td>\n",
       "      <td>-2529.043187</td>\n",
       "      <td>-26.370039</td>\n",
       "      <td>-25.290432</td>\n",
       "      <td>1883.364961</td>\n",
       "      <td>1909.444568</td>\n",
       "    </tr>\n",
       "    <tr>\n",
       "      <td>17</td>\n",
       "      <td>2020-07-02</td>\n",
       "      <td>1Y</td>\n",
       "      <td>2020-07-06</td>\n",
       "      <td>2021-07-06</td>\n",
       "      <td>-1.500000</td>\n",
       "      <td>-1.420000</td>\n",
       "      <td>365.0</td>\n",
       "      <td>-2864.602500</td>\n",
       "      <td>-2747.323700</td>\n",
       "      <td>-28.646025</td>\n",
       "      <td>-27.473237</td>\n",
       "      <td>1881.088975</td>\n",
       "      <td>1907.261763</td>\n",
       "    </tr>\n",
       "    <tr>\n",
       "      <td>18</td>\n",
       "      <td>2020-07-02</td>\n",
       "      <td>15M</td>\n",
       "      <td>2020-07-06</td>\n",
       "      <td>2021-10-06</td>\n",
       "      <td>-1.260548</td>\n",
       "      <td>-1.180548</td>\n",
       "      <td>457.0</td>\n",
       "      <td>-3014.087195</td>\n",
       "      <td>-2859.752534</td>\n",
       "      <td>-30.140872</td>\n",
       "      <td>-28.597525</td>\n",
       "      <td>1879.594128</td>\n",
       "      <td>1906.137475</td>\n",
       "    </tr>\n",
       "    <tr>\n",
       "      <td>19</td>\n",
       "      <td>2020-07-02</td>\n",
       "      <td>18M</td>\n",
       "      <td>2020-07-06</td>\n",
       "      <td>2022-01-06</td>\n",
       "      <td>-1.021096</td>\n",
       "      <td>-0.941096</td>\n",
       "      <td>549.0</td>\n",
       "      <td>-2933.047632</td>\n",
       "      <td>-2738.639357</td>\n",
       "      <td>-29.330476</td>\n",
       "      <td>-27.386394</td>\n",
       "      <td>1880.404524</td>\n",
       "      <td>1907.348606</td>\n",
       "    </tr>\n",
       "    <tr>\n",
       "      <td>20</td>\n",
       "      <td>2020-07-02</td>\n",
       "      <td>21M</td>\n",
       "      <td>2020-07-06</td>\n",
       "      <td>2022-04-06</td>\n",
       "      <td>-0.786849</td>\n",
       "      <td>-0.706849</td>\n",
       "      <td>639.0</td>\n",
       "      <td>-2630.708163</td>\n",
       "      <td>-2394.177381</td>\n",
       "      <td>-26.307082</td>\n",
       "      <td>-23.941774</td>\n",
       "      <td>1883.427918</td>\n",
       "      <td>1910.793226</td>\n",
       "    </tr>\n",
       "    <tr>\n",
       "      <td>21</td>\n",
       "      <td>2020-07-02</td>\n",
       "      <td>2Y</td>\n",
       "      <td>2020-07-06</td>\n",
       "      <td>2022-07-06</td>\n",
       "      <td>-0.550000</td>\n",
       "      <td>-0.470000</td>\n",
       "      <td>730.0</td>\n",
       "      <td>-2100.708500</td>\n",
       "      <td>-1818.650900</td>\n",
       "      <td>-21.007085</td>\n",
       "      <td>-18.186509</td>\n",
       "      <td>1888.727915</td>\n",
       "      <td>1916.548491</td>\n",
       "    </tr>\n",
       "    <tr>\n",
       "      <td>22</td>\n",
       "      <td>2020-07-02</td>\n",
       "      <td>3Y</td>\n",
       "      <td>2020-07-06</td>\n",
       "      <td>2023-07-06</td>\n",
       "      <td>-0.550000</td>\n",
       "      <td>-0.470000</td>\n",
       "      <td>1095.0</td>\n",
       "      <td>-3151.062750</td>\n",
       "      <td>-2727.976350</td>\n",
       "      <td>-31.510628</td>\n",
       "      <td>-27.279763</td>\n",
       "      <td>1878.224372</td>\n",
       "      <td>1907.455236</td>\n",
       "    </tr>\n",
       "    <tr>\n",
       "      <td>23</td>\n",
       "      <td>2020-07-02</td>\n",
       "      <td>4Y</td>\n",
       "      <td>2020-07-06</td>\n",
       "      <td>2024-07-08</td>\n",
       "      <td>-0.550000</td>\n",
       "      <td>-0.470000</td>\n",
       "      <td>1463.0</td>\n",
       "      <td>-4210.050049</td>\n",
       "      <td>-3644.775708</td>\n",
       "      <td>-42.100500</td>\n",
       "      <td>-36.447757</td>\n",
       "      <td>1867.634500</td>\n",
       "      <td>1898.287243</td>\n",
       "    </tr>\n",
       "    <tr>\n",
       "      <td>24</td>\n",
       "      <td>2020-07-02</td>\n",
       "      <td>5Y</td>\n",
       "      <td>2020-07-06</td>\n",
       "      <td>2025-07-07</td>\n",
       "      <td>-0.550000</td>\n",
       "      <td>-0.470000</td>\n",
       "      <td>1827.0</td>\n",
       "      <td>-5257.526616</td>\n",
       "      <td>-4551.609855</td>\n",
       "      <td>-52.575266</td>\n",
       "      <td>-45.516099</td>\n",
       "      <td>1857.159734</td>\n",
       "      <td>1889.218901</td>\n",
       "    </tr>\n",
       "    <tr>\n",
       "      <td>25</td>\n",
       "      <td>2020-07-02</td>\n",
       "      <td>6Y</td>\n",
       "      <td>2020-07-06</td>\n",
       "      <td>2026-07-06</td>\n",
       "      <td>-0.550000</td>\n",
       "      <td>-0.470000</td>\n",
       "      <td>2191.0</td>\n",
       "      <td>-6305.003183</td>\n",
       "      <td>-5458.444003</td>\n",
       "      <td>-63.050032</td>\n",
       "      <td>-54.584440</td>\n",
       "      <td>1846.684968</td>\n",
       "      <td>1880.150560</td>\n",
       "    </tr>\n",
       "    <tr>\n",
       "      <td>26</td>\n",
       "      <td>2020-07-02</td>\n",
       "      <td>7Y</td>\n",
       "      <td>2020-07-06</td>\n",
       "      <td>2027-07-06</td>\n",
       "      <td>-0.550000</td>\n",
       "      <td>-0.470000</td>\n",
       "      <td>2556.0</td>\n",
       "      <td>-7355.357433</td>\n",
       "      <td>-6367.769453</td>\n",
       "      <td>-73.553574</td>\n",
       "      <td>-63.677695</td>\n",
       "      <td>1836.181426</td>\n",
       "      <td>1871.057305</td>\n",
       "    </tr>\n",
       "    <tr>\n",
       "      <td>27</td>\n",
       "      <td>2020-07-02</td>\n",
       "      <td>8Y</td>\n",
       "      <td>2020-07-06</td>\n",
       "      <td>2028-07-06</td>\n",
       "      <td>-0.550000</td>\n",
       "      <td>-0.470000</td>\n",
       "      <td>2922.0</td>\n",
       "      <td>-8408.589366</td>\n",
       "      <td>-7279.586205</td>\n",
       "      <td>-84.085894</td>\n",
       "      <td>-72.795862</td>\n",
       "      <td>1825.649106</td>\n",
       "      <td>1861.939138</td>\n",
       "    </tr>\n",
       "    <tr>\n",
       "      <td>28</td>\n",
       "      <td>2020-07-02</td>\n",
       "      <td>9Y</td>\n",
       "      <td>2020-07-06</td>\n",
       "      <td>2029-07-06</td>\n",
       "      <td>-0.550000</td>\n",
       "      <td>-0.470000</td>\n",
       "      <td>3287.0</td>\n",
       "      <td>-9458.943616</td>\n",
       "      <td>-8188.911655</td>\n",
       "      <td>-94.589436</td>\n",
       "      <td>-81.889117</td>\n",
       "      <td>1815.145564</td>\n",
       "      <td>1852.845883</td>\n",
       "    </tr>\n",
       "    <tr>\n",
       "      <td>29</td>\n",
       "      <td>2020-07-02</td>\n",
       "      <td>10Y</td>\n",
       "      <td>2020-07-06</td>\n",
       "      <td>2030-07-08</td>\n",
       "      <td>-0.550000</td>\n",
       "      <td>-0.470000</td>\n",
       "      <td>3654.0</td>\n",
       "      <td>-10515.053232</td>\n",
       "      <td>-9103.219710</td>\n",
       "      <td>-105.150532</td>\n",
       "      <td>-91.032197</td>\n",
       "      <td>1804.584468</td>\n",
       "      <td>1843.702803</td>\n",
       "    </tr>\n",
       "  </tbody>\n",
       "</table>\n",
       "</div>"
      ],
      "text/plain": [
       "            DATE TENOR      START        END  BID_RATE  ASK_RATE    DAYS  \\\n",
       "index                                                                      \n",
       "0     2020-07-02    ON 2020-07-02 2020-07-03 -0.380000 -0.300000     1.0   \n",
       "1     2020-07-02    TN 2020-07-03 2020-07-06 -0.380000 -0.300000     3.0   \n",
       "2     2020-07-02    SN 2020-07-06 2020-07-07 -0.380000 -0.300000     1.0   \n",
       "3     2020-07-02    SW 2020-07-06 2020-07-13 -0.380000 -0.300000     7.0   \n",
       "4     2020-07-02    2W 2020-07-06 2020-07-20 -0.380000 -0.300000    14.0   \n",
       "5     2020-07-02    3W 2020-07-06 2020-07-27 -0.380000 -0.300000    21.0   \n",
       "6     2020-07-02    1M 2020-07-06 2020-08-06 -0.380000 -0.300000    31.0   \n",
       "7     2020-07-02    2M 2020-07-06 2020-09-08 -0.750000 -0.670000    64.0   \n",
       "8     2020-07-02    3M 2020-07-06 2020-10-06 -0.750000 -0.670000    92.0   \n",
       "9     2020-07-02    4M 2020-07-06 2020-11-06 -0.969022 -0.889022   123.0   \n",
       "10    2020-07-02    5M 2020-07-06 2020-12-07 -1.188043 -1.108043   154.0   \n",
       "11    2020-07-02    6M 2020-07-06 2021-01-06 -1.400000 -1.320000   184.0   \n",
       "12    2020-07-02    7M 2020-07-06 2021-02-08 -1.436667 -1.356667   217.0   \n",
       "13    2020-07-02    8M 2020-07-06 2021-03-08 -1.467778 -1.387778   245.0   \n",
       "14    2020-07-02    9M 2020-07-06 2021-04-06 -1.500000 -1.420000   274.0   \n",
       "15    2020-07-02   10M 2020-07-06 2021-05-06 -1.500000 -1.420000   304.0   \n",
       "16    2020-07-02   11M 2020-07-06 2021-06-07 -1.500000 -1.420000   336.0   \n",
       "17    2020-07-02    1Y 2020-07-06 2021-07-06 -1.500000 -1.420000   365.0   \n",
       "18    2020-07-02   15M 2020-07-06 2021-10-06 -1.260548 -1.180548   457.0   \n",
       "19    2020-07-02   18M 2020-07-06 2022-01-06 -1.021096 -0.941096   549.0   \n",
       "20    2020-07-02   21M 2020-07-06 2022-04-06 -0.786849 -0.706849   639.0   \n",
       "21    2020-07-02    2Y 2020-07-06 2022-07-06 -0.550000 -0.470000   730.0   \n",
       "22    2020-07-02    3Y 2020-07-06 2023-07-06 -0.550000 -0.470000  1095.0   \n",
       "23    2020-07-02    4Y 2020-07-06 2024-07-08 -0.550000 -0.470000  1463.0   \n",
       "24    2020-07-02    5Y 2020-07-06 2025-07-07 -0.550000 -0.470000  1827.0   \n",
       "25    2020-07-02    6Y 2020-07-06 2026-07-06 -0.550000 -0.470000  2191.0   \n",
       "26    2020-07-02    7Y 2020-07-06 2027-07-06 -0.550000 -0.470000  2556.0   \n",
       "27    2020-07-02    8Y 2020-07-06 2028-07-06 -0.550000 -0.470000  2922.0   \n",
       "28    2020-07-02    9Y 2020-07-06 2029-07-06 -0.550000 -0.470000  3287.0   \n",
       "29    2020-07-02   10Y 2020-07-06 2030-07-08 -0.550000 -0.470000  3654.0   \n",
       "\n",
       "       BID_SWAP_POINT  ASK_SWAP_POINT  BID_SWAP_PRICE  ASK_SWAP_PRICE  \\\n",
       "index                                                                   \n",
       "0           -1.988217       -1.590193       -0.019882       -0.015902   \n",
       "1           -5.964652       -4.770579       -0.059647       -0.047706   \n",
       "2           -1.988217       -1.590193       -0.019882       -0.015902   \n",
       "3          -13.917521      -11.131352       -0.139175       -0.111314   \n",
       "4          -27.835042      -22.262704       -0.278350       -0.222627   \n",
       "5          -41.752562      -33.394056       -0.417526       -0.333941   \n",
       "6          -61.634735      -49.295988       -0.616347       -0.492960   \n",
       "7         -251.143233     -227.291608       -2.511432       -2.272916   \n",
       "8         -361.018397     -326.731686       -3.610184       -3.267317   \n",
       "9         -623.618334     -579.623675       -6.236183       -5.796237   \n",
       "10        -957.267465     -904.494950       -9.572675       -9.044950   \n",
       "11       -1347.802016    -1287.420375      -13.478020      -12.874204   \n",
       "12       -1631.157857    -1560.491876      -16.311579      -15.604919   \n",
       "13       -1881.510454    -1802.248352      -18.815105      -18.022484   \n",
       "14       -2150.413932    -2062.374504      -21.504139      -20.623745   \n",
       "15       -2385.860712    -2288.181931      -23.858607      -22.881819   \n",
       "16       -2637.003945    -2529.043187      -26.370039      -25.290432   \n",
       "17       -2864.602500    -2747.323700      -28.646025      -27.473237   \n",
       "18       -3014.087195    -2859.752534      -30.140872      -28.597525   \n",
       "19       -2933.047632    -2738.639357      -29.330476      -27.386394   \n",
       "20       -2630.708163    -2394.177381      -26.307082      -23.941774   \n",
       "21       -2100.708500    -1818.650900      -21.007085      -18.186509   \n",
       "22       -3151.062750    -2727.976350      -31.510628      -27.279763   \n",
       "23       -4210.050049    -3644.775708      -42.100500      -36.447757   \n",
       "24       -5257.526616    -4551.609855      -52.575266      -45.516099   \n",
       "25       -6305.003183    -5458.444003      -63.050032      -54.584440   \n",
       "26       -7355.357433    -6367.769453      -73.553574      -63.677695   \n",
       "27       -8408.589366    -7279.586205      -84.085894      -72.795862   \n",
       "28       -9458.943616    -8188.911655      -94.589436      -81.889117   \n",
       "29      -10515.053232    -9103.219710     -105.150532      -91.032197   \n",
       "\n",
       "       BID_FWDOUTRIGHT  ASK_FWDOUTRIGHT  \n",
       "index                                    \n",
       "0          1909.798608      1934.814529  \n",
       "1          1909.782706      1934.794647  \n",
       "2          1909.715118      1934.719098  \n",
       "3          1909.595825      1934.623686  \n",
       "4          1909.456650      1934.512373  \n",
       "5          1909.317474      1934.401059  \n",
       "6          1909.118653      1934.242040  \n",
       "7          1907.223568      1932.462084  \n",
       "8          1906.124816      1931.467683  \n",
       "9          1903.498817      1928.938763  \n",
       "10         1900.162325      1925.690050  \n",
       "11         1896.256980      1921.860796  \n",
       "12         1893.423421      1919.130081  \n",
       "13         1890.919895      1916.712516  \n",
       "14         1888.230861      1914.111255  \n",
       "15         1885.876393      1911.853181  \n",
       "16         1883.364961      1909.444568  \n",
       "17         1881.088975      1907.261763  \n",
       "18         1879.594128      1906.137475  \n",
       "19         1880.404524      1907.348606  \n",
       "20         1883.427918      1910.793226  \n",
       "21         1888.727915      1916.548491  \n",
       "22         1878.224372      1907.455236  \n",
       "23         1867.634500      1898.287243  \n",
       "24         1857.159734      1889.218901  \n",
       "25         1846.684968      1880.150560  \n",
       "26         1836.181426      1871.057305  \n",
       "27         1825.649106      1861.939138  \n",
       "28         1815.145564      1852.845883  \n",
       "29         1804.584468      1843.702803  "
      ]
     },
     "execution_count": 26,
     "metadata": {},
     "output_type": "execute_result"
    }
   ],
   "source": [
    "df_fwd = calculate_fwdoutright(metal, df_swppoint, spot_bid, spot_ask)\n",
    "df_fwd"
   ]
  },
  {
   "cell_type": "markdown",
   "metadata": {},
   "source": [
    "### Optional: Plot Forward Outright Prices graph\n",
    "\n",
    "Create a Forward Outright Prices dataframe used to plot a graph"
   ]
  },
  {
   "cell_type": "code",
   "execution_count": 27,
   "metadata": {},
   "outputs": [
    {
     "data": {
      "text/html": [
       "<div>\n",
       "<style scoped>\n",
       "    .dataframe tbody tr th:only-of-type {\n",
       "        vertical-align: middle;\n",
       "    }\n",
       "\n",
       "    .dataframe tbody tr th {\n",
       "        vertical-align: top;\n",
       "    }\n",
       "\n",
       "    .dataframe thead th {\n",
       "        text-align: right;\n",
       "    }\n",
       "</style>\n",
       "<table border=\"1\" class=\"dataframe\">\n",
       "  <thead>\n",
       "    <tr style=\"text-align: right;\">\n",
       "      <th></th>\n",
       "      <th>BID_FWDOUTRIGHT</th>\n",
       "      <th>ASK_FWDOUTRIGHT</th>\n",
       "    </tr>\n",
       "    <tr>\n",
       "      <th>DATE</th>\n",
       "      <th></th>\n",
       "      <th></th>\n",
       "    </tr>\n",
       "  </thead>\n",
       "  <tbody>\n",
       "    <tr>\n",
       "      <td>2020-07-03</td>\n",
       "      <td>1909.798608</td>\n",
       "      <td>1934.814529</td>\n",
       "    </tr>\n",
       "    <tr>\n",
       "      <td>2020-07-06</td>\n",
       "      <td>1909.782706</td>\n",
       "      <td>1934.794647</td>\n",
       "    </tr>\n",
       "    <tr>\n",
       "      <td>2020-07-07</td>\n",
       "      <td>1909.715118</td>\n",
       "      <td>1934.719098</td>\n",
       "    </tr>\n",
       "    <tr>\n",
       "      <td>2020-07-13</td>\n",
       "      <td>1909.595825</td>\n",
       "      <td>1934.623686</td>\n",
       "    </tr>\n",
       "    <tr>\n",
       "      <td>2020-07-20</td>\n",
       "      <td>1909.456650</td>\n",
       "      <td>1934.512373</td>\n",
       "    </tr>\n",
       "    <tr>\n",
       "      <td>2020-07-27</td>\n",
       "      <td>1909.317474</td>\n",
       "      <td>1934.401059</td>\n",
       "    </tr>\n",
       "    <tr>\n",
       "      <td>2020-08-06</td>\n",
       "      <td>1909.118653</td>\n",
       "      <td>1934.242040</td>\n",
       "    </tr>\n",
       "    <tr>\n",
       "      <td>2020-09-08</td>\n",
       "      <td>1907.223568</td>\n",
       "      <td>1932.462084</td>\n",
       "    </tr>\n",
       "    <tr>\n",
       "      <td>2020-10-06</td>\n",
       "      <td>1906.124816</td>\n",
       "      <td>1931.467683</td>\n",
       "    </tr>\n",
       "    <tr>\n",
       "      <td>2020-11-06</td>\n",
       "      <td>1903.498817</td>\n",
       "      <td>1928.938763</td>\n",
       "    </tr>\n",
       "    <tr>\n",
       "      <td>2020-12-07</td>\n",
       "      <td>1900.162325</td>\n",
       "      <td>1925.690050</td>\n",
       "    </tr>\n",
       "    <tr>\n",
       "      <td>2021-01-06</td>\n",
       "      <td>1896.256980</td>\n",
       "      <td>1921.860796</td>\n",
       "    </tr>\n",
       "    <tr>\n",
       "      <td>2021-02-08</td>\n",
       "      <td>1893.423421</td>\n",
       "      <td>1919.130081</td>\n",
       "    </tr>\n",
       "    <tr>\n",
       "      <td>2021-03-08</td>\n",
       "      <td>1890.919895</td>\n",
       "      <td>1916.712516</td>\n",
       "    </tr>\n",
       "    <tr>\n",
       "      <td>2021-04-06</td>\n",
       "      <td>1888.230861</td>\n",
       "      <td>1914.111255</td>\n",
       "    </tr>\n",
       "    <tr>\n",
       "      <td>2021-05-06</td>\n",
       "      <td>1885.876393</td>\n",
       "      <td>1911.853181</td>\n",
       "    </tr>\n",
       "    <tr>\n",
       "      <td>2021-06-07</td>\n",
       "      <td>1883.364961</td>\n",
       "      <td>1909.444568</td>\n",
       "    </tr>\n",
       "    <tr>\n",
       "      <td>2021-07-06</td>\n",
       "      <td>1881.088975</td>\n",
       "      <td>1907.261763</td>\n",
       "    </tr>\n",
       "    <tr>\n",
       "      <td>2021-10-06</td>\n",
       "      <td>1879.594128</td>\n",
       "      <td>1906.137475</td>\n",
       "    </tr>\n",
       "    <tr>\n",
       "      <td>2022-01-06</td>\n",
       "      <td>1880.404524</td>\n",
       "      <td>1907.348606</td>\n",
       "    </tr>\n",
       "    <tr>\n",
       "      <td>2022-04-06</td>\n",
       "      <td>1883.427918</td>\n",
       "      <td>1910.793226</td>\n",
       "    </tr>\n",
       "    <tr>\n",
       "      <td>2022-07-06</td>\n",
       "      <td>1888.727915</td>\n",
       "      <td>1916.548491</td>\n",
       "    </tr>\n",
       "    <tr>\n",
       "      <td>2023-07-06</td>\n",
       "      <td>1878.224372</td>\n",
       "      <td>1907.455236</td>\n",
       "    </tr>\n",
       "    <tr>\n",
       "      <td>2024-07-08</td>\n",
       "      <td>1867.634500</td>\n",
       "      <td>1898.287243</td>\n",
       "    </tr>\n",
       "    <tr>\n",
       "      <td>2025-07-07</td>\n",
       "      <td>1857.159734</td>\n",
       "      <td>1889.218901</td>\n",
       "    </tr>\n",
       "    <tr>\n",
       "      <td>2026-07-06</td>\n",
       "      <td>1846.684968</td>\n",
       "      <td>1880.150560</td>\n",
       "    </tr>\n",
       "    <tr>\n",
       "      <td>2027-07-06</td>\n",
       "      <td>1836.181426</td>\n",
       "      <td>1871.057305</td>\n",
       "    </tr>\n",
       "    <tr>\n",
       "      <td>2028-07-06</td>\n",
       "      <td>1825.649106</td>\n",
       "      <td>1861.939138</td>\n",
       "    </tr>\n",
       "    <tr>\n",
       "      <td>2029-07-06</td>\n",
       "      <td>1815.145564</td>\n",
       "      <td>1852.845883</td>\n",
       "    </tr>\n",
       "    <tr>\n",
       "      <td>2030-07-08</td>\n",
       "      <td>1804.584468</td>\n",
       "      <td>1843.702803</td>\n",
       "    </tr>\n",
       "  </tbody>\n",
       "</table>\n",
       "</div>"
      ],
      "text/plain": [
       "            BID_FWDOUTRIGHT  ASK_FWDOUTRIGHT\n",
       "DATE                                        \n",
       "2020-07-03      1909.798608      1934.814529\n",
       "2020-07-06      1909.782706      1934.794647\n",
       "2020-07-07      1909.715118      1934.719098\n",
       "2020-07-13      1909.595825      1934.623686\n",
       "2020-07-20      1909.456650      1934.512373\n",
       "2020-07-27      1909.317474      1934.401059\n",
       "2020-08-06      1909.118653      1934.242040\n",
       "2020-09-08      1907.223568      1932.462084\n",
       "2020-10-06      1906.124816      1931.467683\n",
       "2020-11-06      1903.498817      1928.938763\n",
       "2020-12-07      1900.162325      1925.690050\n",
       "2021-01-06      1896.256980      1921.860796\n",
       "2021-02-08      1893.423421      1919.130081\n",
       "2021-03-08      1890.919895      1916.712516\n",
       "2021-04-06      1888.230861      1914.111255\n",
       "2021-05-06      1885.876393      1911.853181\n",
       "2021-06-07      1883.364961      1909.444568\n",
       "2021-07-06      1881.088975      1907.261763\n",
       "2021-10-06      1879.594128      1906.137475\n",
       "2022-01-06      1880.404524      1907.348606\n",
       "2022-04-06      1883.427918      1910.793226\n",
       "2022-07-06      1888.727915      1916.548491\n",
       "2023-07-06      1878.224372      1907.455236\n",
       "2024-07-08      1867.634500      1898.287243\n",
       "2025-07-07      1857.159734      1889.218901\n",
       "2026-07-06      1846.684968      1880.150560\n",
       "2027-07-06      1836.181426      1871.057305\n",
       "2028-07-06      1825.649106      1861.939138\n",
       "2029-07-06      1815.145564      1852.845883\n",
       "2030-07-08      1804.584468      1843.702803"
      ]
     },
     "execution_count": 27,
     "metadata": {},
     "output_type": "execute_result"
    }
   ],
   "source": [
    "fwd_outright = pd.DataFrame()\n",
    "fwd_outright['DATE'] = df_fwd['END']\n",
    "fwd_outright['BID_FWDOUTRIGHT'] = df_fwd['BID_FWDOUTRIGHT']\n",
    "fwd_outright['ASK_FWDOUTRIGHT'] = df_fwd['ASK_FWDOUTRIGHT']\n",
    "fwd_outright.index = fwd_outright['DATE']\n",
    "del fwd_outright['DATE']\n",
    "fwd_outright"
   ]
  },
  {
   "cell_type": "markdown",
   "metadata": {},
   "source": [
    "Plot BID and ASK Forward Outright Prices graph according to the dataframe"
   ]
  },
  {
   "cell_type": "code",
   "execution_count": 28,
   "metadata": {},
   "outputs": [
    {
     "data": {
      "text/html": [
       "        <script type=\"text/javascript\">\n",
       "        window.PlotlyConfig = {MathJaxConfig: 'local'};\n",
       "        if (window.MathJax) {MathJax.Hub.Config({SVG: {font: \"STIX-Web\"}});}\n",
       "        if (typeof require !== 'undefined') {\n",
       "        require.undef(\"plotly\");\n",
       "        requirejs.config({\n",
       "            paths: {\n",
       "                'plotly': ['https://cdn.plot.ly/plotly-latest.min']\n",
       "            }\n",
       "        });\n",
       "        require(['plotly'], function(Plotly) {\n",
       "            window._Plotly = Plotly;\n",
       "        });\n",
       "        }\n",
       "        </script>\n",
       "        "
      ]
     },
     "metadata": {},
     "output_type": "display_data"
    },
    {
     "data": {
      "application/vnd.plotly.v1+json": {
       "config": {
        "linkText": "Export to plot.ly",
        "plotlyServerURL": "https://plot.ly",
        "showLink": true
       },
       "data": [
        {
         "line": {
          "color": "rgba(255, 153, 51, 1.0)",
          "dash": "solid",
          "shape": "linear",
          "width": 1.3
         },
         "mode": "lines",
         "name": "BID_FWDOUTRIGHT",
         "text": "",
         "type": "scatter",
         "x": [
          "2020-07-03",
          "2020-07-06",
          "2020-07-07",
          "2020-07-13",
          "2020-07-20",
          "2020-07-27",
          "2020-08-06",
          "2020-09-08",
          "2020-10-06",
          "2020-11-06",
          "2020-12-07",
          "2021-01-06",
          "2021-02-08",
          "2021-03-08",
          "2021-04-06",
          "2021-05-06",
          "2021-06-07",
          "2021-07-06",
          "2021-10-06",
          "2022-01-06",
          "2022-04-06",
          "2022-07-06",
          "2023-07-06",
          "2024-07-08",
          "2025-07-07",
          "2026-07-06",
          "2027-07-06",
          "2028-07-06",
          "2029-07-06",
          "2030-07-08"
         ],
         "y": [
          1909.7986077260275,
          1909.7827057945206,
          1909.715117827397,
          1909.5958247917806,
          1909.4566495835616,
          1909.3174743753423,
          1909.118652649315,
          1907.2235676712328,
          1906.1248160273972,
          1903.498816659991,
          1900.162325352293,
          1896.2569798356164,
          1893.4234214296803,
          1890.919895461948,
          1888.2308606849315,
          1885.8763928767123,
          1883.3649605479452,
          1881.088975,
          1879.5941280473257,
          1880.4045236824545,
          1883.427918372077,
          1888.727915,
          1878.2243724999998,
          1867.6344995136985,
          1857.1597338424656,
          1846.6849681712329,
          1836.1814256712328,
          1825.6491063424655,
          1815.1455638424657,
          1804.5844676849315
         ]
        },
        {
         "line": {
          "color": "rgba(55, 128, 191, 1.0)",
          "dash": "solid",
          "shape": "linear",
          "width": 1.3
         },
         "mode": "lines",
         "name": "ASK_FWDOUTRIGHT",
         "text": "",
         "type": "scatter",
         "x": [
          "2020-07-03",
          "2020-07-06",
          "2020-07-07",
          "2020-07-13",
          "2020-07-20",
          "2020-07-27",
          "2020-08-06",
          "2020-09-08",
          "2020-10-06",
          "2020-11-06",
          "2020-12-07",
          "2021-01-06",
          "2021-02-08",
          "2021-03-08",
          "2021-04-06",
          "2021-05-06",
          "2021-06-07",
          "2021-07-06",
          "2021-10-06",
          "2022-01-06",
          "2022-04-06",
          "2022-07-06",
          "2023-07-06",
          "2024-07-08",
          "2025-07-07",
          "2026-07-06",
          "2027-07-06",
          "2028-07-06",
          "2029-07-06",
          "2030-07-08"
         ],
         "y": [
          1934.814528690411,
          1934.7946465178081,
          1934.719098068493,
          1934.6236864794519,
          1934.512372958904,
          1934.401059438356,
          1934.2420401232876,
          1932.4620839232875,
          1931.467683139726,
          1928.9387632504615,
          1925.6900504977366,
          1921.8607962520548,
          1919.130081236073,
          1916.712516478691,
          1914.1112549643835,
          1911.853180690411,
          1909.4445681315067,
          1907.261763,
          1906.137474658998,
          1907.3486064250328,
          1910.79322619103,
          1916.548491,
          1907.4552365,
          1898.2872429219178,
          1889.2189014479452,
          1880.1505599739726,
          1871.0573054739725,
          1861.939137947945,
          1852.8458834479452,
          1843.7028028958903
         ]
        }
       ],
       "layout": {
        "template": {
         "data": {
          "bar": [
           {
            "error_x": {
             "color": "#2a3f5f"
            },
            "error_y": {
             "color": "#2a3f5f"
            },
            "marker": {
             "line": {
              "color": "#E5ECF6",
              "width": 0.5
             }
            },
            "type": "bar"
           }
          ],
          "barpolar": [
           {
            "marker": {
             "line": {
              "color": "#E5ECF6",
              "width": 0.5
             }
            },
            "type": "barpolar"
           }
          ],
          "carpet": [
           {
            "aaxis": {
             "endlinecolor": "#2a3f5f",
             "gridcolor": "white",
             "linecolor": "white",
             "minorgridcolor": "white",
             "startlinecolor": "#2a3f5f"
            },
            "baxis": {
             "endlinecolor": "#2a3f5f",
             "gridcolor": "white",
             "linecolor": "white",
             "minorgridcolor": "white",
             "startlinecolor": "#2a3f5f"
            },
            "type": "carpet"
           }
          ],
          "choropleth": [
           {
            "colorbar": {
             "outlinewidth": 0,
             "ticks": ""
            },
            "type": "choropleth"
           }
          ],
          "contour": [
           {
            "colorbar": {
             "outlinewidth": 0,
             "ticks": ""
            },
            "colorscale": [
             [
              0,
              "#0d0887"
             ],
             [
              0.1111111111111111,
              "#46039f"
             ],
             [
              0.2222222222222222,
              "#7201a8"
             ],
             [
              0.3333333333333333,
              "#9c179e"
             ],
             [
              0.4444444444444444,
              "#bd3786"
             ],
             [
              0.5555555555555556,
              "#d8576b"
             ],
             [
              0.6666666666666666,
              "#ed7953"
             ],
             [
              0.7777777777777778,
              "#fb9f3a"
             ],
             [
              0.8888888888888888,
              "#fdca26"
             ],
             [
              1,
              "#f0f921"
             ]
            ],
            "type": "contour"
           }
          ],
          "contourcarpet": [
           {
            "colorbar": {
             "outlinewidth": 0,
             "ticks": ""
            },
            "type": "contourcarpet"
           }
          ],
          "heatmap": [
           {
            "colorbar": {
             "outlinewidth": 0,
             "ticks": ""
            },
            "colorscale": [
             [
              0,
              "#0d0887"
             ],
             [
              0.1111111111111111,
              "#46039f"
             ],
             [
              0.2222222222222222,
              "#7201a8"
             ],
             [
              0.3333333333333333,
              "#9c179e"
             ],
             [
              0.4444444444444444,
              "#bd3786"
             ],
             [
              0.5555555555555556,
              "#d8576b"
             ],
             [
              0.6666666666666666,
              "#ed7953"
             ],
             [
              0.7777777777777778,
              "#fb9f3a"
             ],
             [
              0.8888888888888888,
              "#fdca26"
             ],
             [
              1,
              "#f0f921"
             ]
            ],
            "type": "heatmap"
           }
          ],
          "heatmapgl": [
           {
            "colorbar": {
             "outlinewidth": 0,
             "ticks": ""
            },
            "colorscale": [
             [
              0,
              "#0d0887"
             ],
             [
              0.1111111111111111,
              "#46039f"
             ],
             [
              0.2222222222222222,
              "#7201a8"
             ],
             [
              0.3333333333333333,
              "#9c179e"
             ],
             [
              0.4444444444444444,
              "#bd3786"
             ],
             [
              0.5555555555555556,
              "#d8576b"
             ],
             [
              0.6666666666666666,
              "#ed7953"
             ],
             [
              0.7777777777777778,
              "#fb9f3a"
             ],
             [
              0.8888888888888888,
              "#fdca26"
             ],
             [
              1,
              "#f0f921"
             ]
            ],
            "type": "heatmapgl"
           }
          ],
          "histogram": [
           {
            "marker": {
             "colorbar": {
              "outlinewidth": 0,
              "ticks": ""
             }
            },
            "type": "histogram"
           }
          ],
          "histogram2d": [
           {
            "colorbar": {
             "outlinewidth": 0,
             "ticks": ""
            },
            "colorscale": [
             [
              0,
              "#0d0887"
             ],
             [
              0.1111111111111111,
              "#46039f"
             ],
             [
              0.2222222222222222,
              "#7201a8"
             ],
             [
              0.3333333333333333,
              "#9c179e"
             ],
             [
              0.4444444444444444,
              "#bd3786"
             ],
             [
              0.5555555555555556,
              "#d8576b"
             ],
             [
              0.6666666666666666,
              "#ed7953"
             ],
             [
              0.7777777777777778,
              "#fb9f3a"
             ],
             [
              0.8888888888888888,
              "#fdca26"
             ],
             [
              1,
              "#f0f921"
             ]
            ],
            "type": "histogram2d"
           }
          ],
          "histogram2dcontour": [
           {
            "colorbar": {
             "outlinewidth": 0,
             "ticks": ""
            },
            "colorscale": [
             [
              0,
              "#0d0887"
             ],
             [
              0.1111111111111111,
              "#46039f"
             ],
             [
              0.2222222222222222,
              "#7201a8"
             ],
             [
              0.3333333333333333,
              "#9c179e"
             ],
             [
              0.4444444444444444,
              "#bd3786"
             ],
             [
              0.5555555555555556,
              "#d8576b"
             ],
             [
              0.6666666666666666,
              "#ed7953"
             ],
             [
              0.7777777777777778,
              "#fb9f3a"
             ],
             [
              0.8888888888888888,
              "#fdca26"
             ],
             [
              1,
              "#f0f921"
             ]
            ],
            "type": "histogram2dcontour"
           }
          ],
          "mesh3d": [
           {
            "colorbar": {
             "outlinewidth": 0,
             "ticks": ""
            },
            "type": "mesh3d"
           }
          ],
          "parcoords": [
           {
            "line": {
             "colorbar": {
              "outlinewidth": 0,
              "ticks": ""
             }
            },
            "type": "parcoords"
           }
          ],
          "pie": [
           {
            "automargin": true,
            "type": "pie"
           }
          ],
          "scatter": [
           {
            "marker": {
             "colorbar": {
              "outlinewidth": 0,
              "ticks": ""
             }
            },
            "type": "scatter"
           }
          ],
          "scatter3d": [
           {
            "line": {
             "colorbar": {
              "outlinewidth": 0,
              "ticks": ""
             }
            },
            "marker": {
             "colorbar": {
              "outlinewidth": 0,
              "ticks": ""
             }
            },
            "type": "scatter3d"
           }
          ],
          "scattercarpet": [
           {
            "marker": {
             "colorbar": {
              "outlinewidth": 0,
              "ticks": ""
             }
            },
            "type": "scattercarpet"
           }
          ],
          "scattergeo": [
           {
            "marker": {
             "colorbar": {
              "outlinewidth": 0,
              "ticks": ""
             }
            },
            "type": "scattergeo"
           }
          ],
          "scattergl": [
           {
            "marker": {
             "colorbar": {
              "outlinewidth": 0,
              "ticks": ""
             }
            },
            "type": "scattergl"
           }
          ],
          "scattermapbox": [
           {
            "marker": {
             "colorbar": {
              "outlinewidth": 0,
              "ticks": ""
             }
            },
            "type": "scattermapbox"
           }
          ],
          "scatterpolar": [
           {
            "marker": {
             "colorbar": {
              "outlinewidth": 0,
              "ticks": ""
             }
            },
            "type": "scatterpolar"
           }
          ],
          "scatterpolargl": [
           {
            "marker": {
             "colorbar": {
              "outlinewidth": 0,
              "ticks": ""
             }
            },
            "type": "scatterpolargl"
           }
          ],
          "scatterternary": [
           {
            "marker": {
             "colorbar": {
              "outlinewidth": 0,
              "ticks": ""
             }
            },
            "type": "scatterternary"
           }
          ],
          "surface": [
           {
            "colorbar": {
             "outlinewidth": 0,
             "ticks": ""
            },
            "colorscale": [
             [
              0,
              "#0d0887"
             ],
             [
              0.1111111111111111,
              "#46039f"
             ],
             [
              0.2222222222222222,
              "#7201a8"
             ],
             [
              0.3333333333333333,
              "#9c179e"
             ],
             [
              0.4444444444444444,
              "#bd3786"
             ],
             [
              0.5555555555555556,
              "#d8576b"
             ],
             [
              0.6666666666666666,
              "#ed7953"
             ],
             [
              0.7777777777777778,
              "#fb9f3a"
             ],
             [
              0.8888888888888888,
              "#fdca26"
             ],
             [
              1,
              "#f0f921"
             ]
            ],
            "type": "surface"
           }
          ],
          "table": [
           {
            "cells": {
             "fill": {
              "color": "#EBF0F8"
             },
             "line": {
              "color": "white"
             }
            },
            "header": {
             "fill": {
              "color": "#C8D4E3"
             },
             "line": {
              "color": "white"
             }
            },
            "type": "table"
           }
          ]
         },
         "layout": {
          "annotationdefaults": {
           "arrowcolor": "#2a3f5f",
           "arrowhead": 0,
           "arrowwidth": 1
          },
          "coloraxis": {
           "colorbar": {
            "outlinewidth": 0,
            "ticks": ""
           }
          },
          "colorscale": {
           "diverging": [
            [
             0,
             "#8e0152"
            ],
            [
             0.1,
             "#c51b7d"
            ],
            [
             0.2,
             "#de77ae"
            ],
            [
             0.3,
             "#f1b6da"
            ],
            [
             0.4,
             "#fde0ef"
            ],
            [
             0.5,
             "#f7f7f7"
            ],
            [
             0.6,
             "#e6f5d0"
            ],
            [
             0.7,
             "#b8e186"
            ],
            [
             0.8,
             "#7fbc41"
            ],
            [
             0.9,
             "#4d9221"
            ],
            [
             1,
             "#276419"
            ]
           ],
           "sequential": [
            [
             0,
             "#0d0887"
            ],
            [
             0.1111111111111111,
             "#46039f"
            ],
            [
             0.2222222222222222,
             "#7201a8"
            ],
            [
             0.3333333333333333,
             "#9c179e"
            ],
            [
             0.4444444444444444,
             "#bd3786"
            ],
            [
             0.5555555555555556,
             "#d8576b"
            ],
            [
             0.6666666666666666,
             "#ed7953"
            ],
            [
             0.7777777777777778,
             "#fb9f3a"
            ],
            [
             0.8888888888888888,
             "#fdca26"
            ],
            [
             1,
             "#f0f921"
            ]
           ],
           "sequentialminus": [
            [
             0,
             "#0d0887"
            ],
            [
             0.1111111111111111,
             "#46039f"
            ],
            [
             0.2222222222222222,
             "#7201a8"
            ],
            [
             0.3333333333333333,
             "#9c179e"
            ],
            [
             0.4444444444444444,
             "#bd3786"
            ],
            [
             0.5555555555555556,
             "#d8576b"
            ],
            [
             0.6666666666666666,
             "#ed7953"
            ],
            [
             0.7777777777777778,
             "#fb9f3a"
            ],
            [
             0.8888888888888888,
             "#fdca26"
            ],
            [
             1,
             "#f0f921"
            ]
           ]
          },
          "colorway": [
           "#636efa",
           "#EF553B",
           "#00cc96",
           "#ab63fa",
           "#FFA15A",
           "#19d3f3",
           "#FF6692",
           "#B6E880",
           "#FF97FF",
           "#FECB52"
          ],
          "font": {
           "color": "#2a3f5f"
          },
          "geo": {
           "bgcolor": "white",
           "lakecolor": "white",
           "landcolor": "#E5ECF6",
           "showlakes": true,
           "showland": true,
           "subunitcolor": "white"
          },
          "hoverlabel": {
           "align": "left"
          },
          "hovermode": "closest",
          "mapbox": {
           "style": "light"
          },
          "paper_bgcolor": "white",
          "plot_bgcolor": "#E5ECF6",
          "polar": {
           "angularaxis": {
            "gridcolor": "white",
            "linecolor": "white",
            "ticks": ""
           },
           "bgcolor": "#E5ECF6",
           "radialaxis": {
            "gridcolor": "white",
            "linecolor": "white",
            "ticks": ""
           }
          },
          "scene": {
           "xaxis": {
            "backgroundcolor": "#E5ECF6",
            "gridcolor": "white",
            "gridwidth": 2,
            "linecolor": "white",
            "showbackground": true,
            "ticks": "",
            "zerolinecolor": "white"
           },
           "yaxis": {
            "backgroundcolor": "#E5ECF6",
            "gridcolor": "white",
            "gridwidth": 2,
            "linecolor": "white",
            "showbackground": true,
            "ticks": "",
            "zerolinecolor": "white"
           },
           "zaxis": {
            "backgroundcolor": "#E5ECF6",
            "gridcolor": "white",
            "gridwidth": 2,
            "linecolor": "white",
            "showbackground": true,
            "ticks": "",
            "zerolinecolor": "white"
           }
          },
          "shapedefaults": {
           "line": {
            "color": "#2a3f5f"
           }
          },
          "ternary": {
           "aaxis": {
            "gridcolor": "white",
            "linecolor": "white",
            "ticks": ""
           },
           "baxis": {
            "gridcolor": "white",
            "linecolor": "white",
            "ticks": ""
           },
           "bgcolor": "#E5ECF6",
           "caxis": {
            "gridcolor": "white",
            "linecolor": "white",
            "ticks": ""
           }
          },
          "title": {
           "x": 0.05
          },
          "xaxis": {
           "automargin": true,
           "gridcolor": "white",
           "linecolor": "white",
           "ticks": "",
           "title": {
            "standoff": 15
           },
           "zerolinecolor": "white",
           "zerolinewidth": 2
          },
          "yaxis": {
           "automargin": true,
           "gridcolor": "white",
           "linecolor": "white",
           "ticks": "",
           "title": {
            "standoff": 15
           },
           "zerolinecolor": "white",
           "zerolinewidth": 2
          }
         }
        },
        "title": {
         "text": "Forward Outright of RIC XPD= based on spot price at 2020-07-02 11:59:40(UTC)",
         "x": 0.4,
         "xanchor": "center",
         "y": 0.9,
         "yanchor": "top"
        }
       }
      },
      "text/html": [
       "<div>\n",
       "        \n",
       "        \n",
       "            <div id=\"756a162e-ff01-4ad2-b91c-b55758165069\" class=\"plotly-graph-div\" style=\"height:525px; width:100%;\"></div>\n",
       "            <script type=\"text/javascript\">\n",
       "                require([\"plotly\"], function(Plotly) {\n",
       "                    window.PLOTLYENV=window.PLOTLYENV || {};\n",
       "                    window.PLOTLYENV.BASE_URL='https://plot.ly';\n",
       "                    \n",
       "                if (document.getElementById(\"756a162e-ff01-4ad2-b91c-b55758165069\")) {\n",
       "                    Plotly.newPlot(\n",
       "                        '756a162e-ff01-4ad2-b91c-b55758165069',\n",
       "                        [{\"line\": {\"color\": \"rgba(255, 153, 51, 1.0)\", \"dash\": \"solid\", \"shape\": \"linear\", \"width\": 1.3}, \"mode\": \"lines\", \"name\": \"BID_FWDOUTRIGHT\", \"text\": \"\", \"type\": \"scatter\", \"x\": [\"2020-07-03\", \"2020-07-06\", \"2020-07-07\", \"2020-07-13\", \"2020-07-20\", \"2020-07-27\", \"2020-08-06\", \"2020-09-08\", \"2020-10-06\", \"2020-11-06\", \"2020-12-07\", \"2021-01-06\", \"2021-02-08\", \"2021-03-08\", \"2021-04-06\", \"2021-05-06\", \"2021-06-07\", \"2021-07-06\", \"2021-10-06\", \"2022-01-06\", \"2022-04-06\", \"2022-07-06\", \"2023-07-06\", \"2024-07-08\", \"2025-07-07\", \"2026-07-06\", \"2027-07-06\", \"2028-07-06\", \"2029-07-06\", \"2030-07-08\"], \"y\": [1909.7986077260275, 1909.7827057945206, 1909.715117827397, 1909.5958247917806, 1909.4566495835616, 1909.3174743753423, 1909.118652649315, 1907.2235676712328, 1906.1248160273972, 1903.498816659991, 1900.162325352293, 1896.2569798356164, 1893.4234214296803, 1890.919895461948, 1888.2308606849315, 1885.8763928767123, 1883.3649605479452, 1881.088975, 1879.5941280473257, 1880.4045236824545, 1883.427918372077, 1888.727915, 1878.2243724999998, 1867.6344995136985, 1857.1597338424656, 1846.6849681712329, 1836.1814256712328, 1825.6491063424655, 1815.1455638424657, 1804.5844676849315]}, {\"line\": {\"color\": \"rgba(55, 128, 191, 1.0)\", \"dash\": \"solid\", \"shape\": \"linear\", \"width\": 1.3}, \"mode\": \"lines\", \"name\": \"ASK_FWDOUTRIGHT\", \"text\": \"\", \"type\": \"scatter\", \"x\": [\"2020-07-03\", \"2020-07-06\", \"2020-07-07\", \"2020-07-13\", \"2020-07-20\", \"2020-07-27\", \"2020-08-06\", \"2020-09-08\", \"2020-10-06\", \"2020-11-06\", \"2020-12-07\", \"2021-01-06\", \"2021-02-08\", \"2021-03-08\", \"2021-04-06\", \"2021-05-06\", \"2021-06-07\", \"2021-07-06\", \"2021-10-06\", \"2022-01-06\", \"2022-04-06\", \"2022-07-06\", \"2023-07-06\", \"2024-07-08\", \"2025-07-07\", \"2026-07-06\", \"2027-07-06\", \"2028-07-06\", \"2029-07-06\", \"2030-07-08\"], \"y\": [1934.814528690411, 1934.7946465178081, 1934.719098068493, 1934.6236864794519, 1934.512372958904, 1934.401059438356, 1934.2420401232876, 1932.4620839232875, 1931.467683139726, 1928.9387632504615, 1925.6900504977366, 1921.8607962520548, 1919.130081236073, 1916.712516478691, 1914.1112549643835, 1911.853180690411, 1909.4445681315067, 1907.261763, 1906.137474658998, 1907.3486064250328, 1910.79322619103, 1916.548491, 1907.4552365, 1898.2872429219178, 1889.2189014479452, 1880.1505599739726, 1871.0573054739725, 1861.939137947945, 1852.8458834479452, 1843.7028028958903]}],\n",
       "                        {\"template\": {\"data\": {\"bar\": [{\"error_x\": {\"color\": \"#2a3f5f\"}, \"error_y\": {\"color\": \"#2a3f5f\"}, \"marker\": {\"line\": {\"color\": \"#E5ECF6\", \"width\": 0.5}}, \"type\": \"bar\"}], \"barpolar\": [{\"marker\": {\"line\": {\"color\": \"#E5ECF6\", \"width\": 0.5}}, \"type\": \"barpolar\"}], \"carpet\": [{\"aaxis\": {\"endlinecolor\": \"#2a3f5f\", \"gridcolor\": \"white\", \"linecolor\": \"white\", \"minorgridcolor\": \"white\", \"startlinecolor\": \"#2a3f5f\"}, \"baxis\": {\"endlinecolor\": \"#2a3f5f\", \"gridcolor\": \"white\", \"linecolor\": \"white\", \"minorgridcolor\": \"white\", \"startlinecolor\": \"#2a3f5f\"}, \"type\": \"carpet\"}], \"choropleth\": [{\"colorbar\": {\"outlinewidth\": 0, \"ticks\": \"\"}, \"type\": \"choropleth\"}], \"contour\": [{\"colorbar\": {\"outlinewidth\": 0, \"ticks\": \"\"}, \"colorscale\": [[0.0, \"#0d0887\"], [0.1111111111111111, \"#46039f\"], [0.2222222222222222, \"#7201a8\"], [0.3333333333333333, \"#9c179e\"], [0.4444444444444444, \"#bd3786\"], [0.5555555555555556, \"#d8576b\"], [0.6666666666666666, \"#ed7953\"], [0.7777777777777778, \"#fb9f3a\"], [0.8888888888888888, \"#fdca26\"], [1.0, \"#f0f921\"]], \"type\": \"contour\"}], \"contourcarpet\": [{\"colorbar\": {\"outlinewidth\": 0, \"ticks\": \"\"}, \"type\": \"contourcarpet\"}], \"heatmap\": [{\"colorbar\": {\"outlinewidth\": 0, \"ticks\": \"\"}, \"colorscale\": [[0.0, \"#0d0887\"], [0.1111111111111111, \"#46039f\"], [0.2222222222222222, \"#7201a8\"], [0.3333333333333333, \"#9c179e\"], [0.4444444444444444, \"#bd3786\"], [0.5555555555555556, \"#d8576b\"], [0.6666666666666666, \"#ed7953\"], [0.7777777777777778, \"#fb9f3a\"], [0.8888888888888888, \"#fdca26\"], [1.0, \"#f0f921\"]], \"type\": \"heatmap\"}], \"heatmapgl\": [{\"colorbar\": {\"outlinewidth\": 0, \"ticks\": \"\"}, \"colorscale\": [[0.0, \"#0d0887\"], [0.1111111111111111, \"#46039f\"], [0.2222222222222222, \"#7201a8\"], [0.3333333333333333, \"#9c179e\"], [0.4444444444444444, \"#bd3786\"], [0.5555555555555556, \"#d8576b\"], [0.6666666666666666, \"#ed7953\"], [0.7777777777777778, \"#fb9f3a\"], [0.8888888888888888, \"#fdca26\"], [1.0, \"#f0f921\"]], \"type\": \"heatmapgl\"}], \"histogram\": [{\"marker\": {\"colorbar\": {\"outlinewidth\": 0, \"ticks\": \"\"}}, \"type\": \"histogram\"}], \"histogram2d\": [{\"colorbar\": {\"outlinewidth\": 0, \"ticks\": \"\"}, \"colorscale\": [[0.0, \"#0d0887\"], [0.1111111111111111, \"#46039f\"], [0.2222222222222222, \"#7201a8\"], [0.3333333333333333, \"#9c179e\"], [0.4444444444444444, \"#bd3786\"], [0.5555555555555556, \"#d8576b\"], [0.6666666666666666, \"#ed7953\"], [0.7777777777777778, \"#fb9f3a\"], [0.8888888888888888, \"#fdca26\"], [1.0, \"#f0f921\"]], \"type\": \"histogram2d\"}], \"histogram2dcontour\": [{\"colorbar\": {\"outlinewidth\": 0, \"ticks\": \"\"}, \"colorscale\": [[0.0, \"#0d0887\"], [0.1111111111111111, \"#46039f\"], [0.2222222222222222, \"#7201a8\"], [0.3333333333333333, \"#9c179e\"], [0.4444444444444444, \"#bd3786\"], [0.5555555555555556, \"#d8576b\"], [0.6666666666666666, \"#ed7953\"], [0.7777777777777778, \"#fb9f3a\"], [0.8888888888888888, \"#fdca26\"], [1.0, \"#f0f921\"]], \"type\": \"histogram2dcontour\"}], \"mesh3d\": [{\"colorbar\": {\"outlinewidth\": 0, \"ticks\": \"\"}, \"type\": \"mesh3d\"}], \"parcoords\": [{\"line\": {\"colorbar\": {\"outlinewidth\": 0, \"ticks\": \"\"}}, \"type\": \"parcoords\"}], \"pie\": [{\"automargin\": true, \"type\": \"pie\"}], \"scatter\": [{\"marker\": {\"colorbar\": {\"outlinewidth\": 0, \"ticks\": \"\"}}, \"type\": \"scatter\"}], \"scatter3d\": [{\"line\": {\"colorbar\": {\"outlinewidth\": 0, \"ticks\": \"\"}}, \"marker\": {\"colorbar\": {\"outlinewidth\": 0, \"ticks\": \"\"}}, \"type\": \"scatter3d\"}], \"scattercarpet\": [{\"marker\": {\"colorbar\": {\"outlinewidth\": 0, \"ticks\": \"\"}}, \"type\": \"scattercarpet\"}], \"scattergeo\": [{\"marker\": {\"colorbar\": {\"outlinewidth\": 0, \"ticks\": \"\"}}, \"type\": \"scattergeo\"}], \"scattergl\": [{\"marker\": {\"colorbar\": {\"outlinewidth\": 0, \"ticks\": \"\"}}, \"type\": \"scattergl\"}], \"scattermapbox\": [{\"marker\": {\"colorbar\": {\"outlinewidth\": 0, \"ticks\": \"\"}}, \"type\": \"scattermapbox\"}], \"scatterpolar\": [{\"marker\": {\"colorbar\": {\"outlinewidth\": 0, \"ticks\": \"\"}}, \"type\": \"scatterpolar\"}], \"scatterpolargl\": [{\"marker\": {\"colorbar\": {\"outlinewidth\": 0, \"ticks\": \"\"}}, \"type\": \"scatterpolargl\"}], \"scatterternary\": [{\"marker\": {\"colorbar\": {\"outlinewidth\": 0, \"ticks\": \"\"}}, \"type\": \"scatterternary\"}], \"surface\": [{\"colorbar\": {\"outlinewidth\": 0, \"ticks\": \"\"}, \"colorscale\": [[0.0, \"#0d0887\"], [0.1111111111111111, \"#46039f\"], [0.2222222222222222, \"#7201a8\"], [0.3333333333333333, \"#9c179e\"], [0.4444444444444444, \"#bd3786\"], [0.5555555555555556, \"#d8576b\"], [0.6666666666666666, \"#ed7953\"], [0.7777777777777778, \"#fb9f3a\"], [0.8888888888888888, \"#fdca26\"], [1.0, \"#f0f921\"]], \"type\": \"surface\"}], \"table\": [{\"cells\": {\"fill\": {\"color\": \"#EBF0F8\"}, \"line\": {\"color\": \"white\"}}, \"header\": {\"fill\": {\"color\": \"#C8D4E3\"}, \"line\": {\"color\": \"white\"}}, \"type\": \"table\"}]}, \"layout\": {\"annotationdefaults\": {\"arrowcolor\": \"#2a3f5f\", \"arrowhead\": 0, \"arrowwidth\": 1}, \"coloraxis\": {\"colorbar\": {\"outlinewidth\": 0, \"ticks\": \"\"}}, \"colorscale\": {\"diverging\": [[0, \"#8e0152\"], [0.1, \"#c51b7d\"], [0.2, \"#de77ae\"], [0.3, \"#f1b6da\"], [0.4, \"#fde0ef\"], [0.5, \"#f7f7f7\"], [0.6, \"#e6f5d0\"], [0.7, \"#b8e186\"], [0.8, \"#7fbc41\"], [0.9, \"#4d9221\"], [1, \"#276419\"]], \"sequential\": [[0.0, \"#0d0887\"], [0.1111111111111111, \"#46039f\"], [0.2222222222222222, \"#7201a8\"], [0.3333333333333333, \"#9c179e\"], [0.4444444444444444, \"#bd3786\"], [0.5555555555555556, \"#d8576b\"], [0.6666666666666666, \"#ed7953\"], [0.7777777777777778, \"#fb9f3a\"], [0.8888888888888888, \"#fdca26\"], [1.0, \"#f0f921\"]], \"sequentialminus\": [[0.0, \"#0d0887\"], [0.1111111111111111, \"#46039f\"], [0.2222222222222222, \"#7201a8\"], [0.3333333333333333, \"#9c179e\"], [0.4444444444444444, \"#bd3786\"], [0.5555555555555556, \"#d8576b\"], [0.6666666666666666, \"#ed7953\"], [0.7777777777777778, \"#fb9f3a\"], [0.8888888888888888, \"#fdca26\"], [1.0, \"#f0f921\"]]}, \"colorway\": [\"#636efa\", \"#EF553B\", \"#00cc96\", \"#ab63fa\", \"#FFA15A\", \"#19d3f3\", \"#FF6692\", \"#B6E880\", \"#FF97FF\", \"#FECB52\"], \"font\": {\"color\": \"#2a3f5f\"}, \"geo\": {\"bgcolor\": \"white\", \"lakecolor\": \"white\", \"landcolor\": \"#E5ECF6\", \"showlakes\": true, \"showland\": true, \"subunitcolor\": \"white\"}, \"hoverlabel\": {\"align\": \"left\"}, \"hovermode\": \"closest\", \"mapbox\": {\"style\": \"light\"}, \"paper_bgcolor\": \"white\", \"plot_bgcolor\": \"#E5ECF6\", \"polar\": {\"angularaxis\": {\"gridcolor\": \"white\", \"linecolor\": \"white\", \"ticks\": \"\"}, \"bgcolor\": \"#E5ECF6\", \"radialaxis\": {\"gridcolor\": \"white\", \"linecolor\": \"white\", \"ticks\": \"\"}}, \"scene\": {\"xaxis\": {\"backgroundcolor\": \"#E5ECF6\", \"gridcolor\": \"white\", \"gridwidth\": 2, \"linecolor\": \"white\", \"showbackground\": true, \"ticks\": \"\", \"zerolinecolor\": \"white\"}, \"yaxis\": {\"backgroundcolor\": \"#E5ECF6\", \"gridcolor\": \"white\", \"gridwidth\": 2, \"linecolor\": \"white\", \"showbackground\": true, \"ticks\": \"\", \"zerolinecolor\": \"white\"}, \"zaxis\": {\"backgroundcolor\": \"#E5ECF6\", \"gridcolor\": \"white\", \"gridwidth\": 2, \"linecolor\": \"white\", \"showbackground\": true, \"ticks\": \"\", \"zerolinecolor\": \"white\"}}, \"shapedefaults\": {\"line\": {\"color\": \"#2a3f5f\"}}, \"ternary\": {\"aaxis\": {\"gridcolor\": \"white\", \"linecolor\": \"white\", \"ticks\": \"\"}, \"baxis\": {\"gridcolor\": \"white\", \"linecolor\": \"white\", \"ticks\": \"\"}, \"bgcolor\": \"#E5ECF6\", \"caxis\": {\"gridcolor\": \"white\", \"linecolor\": \"white\", \"ticks\": \"\"}}, \"title\": {\"x\": 0.05}, \"xaxis\": {\"automargin\": true, \"gridcolor\": \"white\", \"linecolor\": \"white\", \"ticks\": \"\", \"title\": {\"standoff\": 15}, \"zerolinecolor\": \"white\", \"zerolinewidth\": 2}, \"yaxis\": {\"automargin\": true, \"gridcolor\": \"white\", \"linecolor\": \"white\", \"ticks\": \"\", \"title\": {\"standoff\": 15}, \"zerolinecolor\": \"white\", \"zerolinewidth\": 2}}}, \"title\": {\"text\": \"Forward Outright of RIC XPD= based on spot price at 2020-07-02 11:59:40(UTC)\", \"x\": 0.4, \"xanchor\": \"center\", \"y\": 0.9, \"yanchor\": \"top\"}},\n",
       "                        {\"showLink\": true, \"linkText\": \"Export to plot.ly\", \"plotlyServerURL\": \"https://plot.ly\", \"responsive\": true}\n",
       "                    ).then(function(){\n",
       "                            \n",
       "var gd = document.getElementById('756a162e-ff01-4ad2-b91c-b55758165069');\n",
       "var x = new MutationObserver(function (mutations, observer) {{\n",
       "        var display = window.getComputedStyle(gd).display;\n",
       "        if (!display || display === 'none') {{\n",
       "            console.log([gd, 'removed!']);\n",
       "            Plotly.purge(gd);\n",
       "            observer.disconnect();\n",
       "        }}\n",
       "}});\n",
       "\n",
       "// Listen for the removal of the full notebook cells\n",
       "var notebookContainer = gd.closest('#notebook-container');\n",
       "if (notebookContainer) {{\n",
       "    x.observe(notebookContainer, {childList: true});\n",
       "}}\n",
       "\n",
       "// Listen for the clearing of the current output cell\n",
       "var outputEl = gd.closest('.output');\n",
       "if (outputEl) {{\n",
       "    x.observe(outputEl, {childList: true});\n",
       "}}\n",
       "\n",
       "                        })\n",
       "                };\n",
       "                });\n",
       "            </script>\n",
       "        </div>"
      ]
     },
     "metadata": {},
     "output_type": "display_data"
    }
   ],
   "source": [
    "cf.set_config_file(offline=True)\n",
    "mylayout = cf.Layout(title={\n",
    "        'text': \"Forward Outright of RIC \" + metal + \" based on spot price at \" + metal_datetime + \"(UTC)\",\n",
    "        'y':0.9,\n",
    "        'x':0.4,\n",
    "        'xanchor': 'center',\n",
    "        'yanchor': 'top'})\n",
    "fwd_outright.iplot(kind='line',layout=mylayout)"
   ]
  },
  {
   "cell_type": "markdown",
   "metadata": {},
   "source": [
    "### Step 7: Close the RDP session"
   ]
  },
  {
   "cell_type": "code",
   "execution_count": 29,
   "metadata": {},
   "outputs": [],
   "source": [
    "rdp.close_session()"
   ]
  },
  {
   "cell_type": "markdown",
   "metadata": {},
   "source": [
    "# Summary"
   ]
  },
  {
   "cell_type": "markdown",
   "metadata": {},
   "source": [
    "In this article, we have demonstrate how to calculate Forward Outright Price which its input can be retrived using RDP library for python. The article also show how to use Cufflinks which makes financial data visualization convenient. The RDP library can be used to retreive data for calculation any other models to serve more accurate or specific use cases."
   ]
  },
  {
   "cell_type": "markdown",
   "metadata": {},
   "source": [
    "# References"
   ]
  },
  {
   "cell_type": "markdown",
   "metadata": {},
   "source": [
    "1. Refinitiv Data Platform Libraries, Refinitiv Developer Community, https://developers.refinitiv.com/refinitiv-data-platform/refinitiv-data-platform-libraries\n",
    "\n",
    "2. Quantitative Analytics - Dates and Calendars in API Playground, https://apidocs.refinitiv.com/Apps/ApiDocs#/details/L2RhdGEvcXVhbnRpdGF0aXZlLWFuYWx5dGljcy1kYXRlcy1hbmQtY2FsZW5kYXJzL2JldGEx/L2RhdGUtc2NoZWR1bGU=/POST/SWAGGER\n",
    "\n",
    "3. \"What Is Tenor?\", in Tenor. Retrieved Jul 3, 2020 from https://www.investopedia.com/terms/t/tenor.asp\n",
    "\n",
    "4. \"What Is a Transaction Date?\", in Transaction Date. Retrieved Jul 3, 2020, from https://www.investopedia.com/terms/t/transaction-date.asp\n"
   ]
  }
 ],
 "metadata": {
  "kernelspec": {
   "display_name": "Python 3",
   "language": "python",
   "name": "python3"
  },
  "language_info": {
   "codemirror_mode": {
    "name": "ipython",
    "version": 3
   },
   "file_extension": ".py",
   "mimetype": "text/x-python",
   "name": "python",
   "nbconvert_exporter": "python",
   "pygments_lexer": "ipython3",
   "version": "3.7.4"
  }
 },
 "nbformat": 4,
 "nbformat_minor": 2
}
